{
 "cells": [
  {
   "cell_type": "code",
   "execution_count": 1,
   "id": "29f437b0",
   "metadata": {},
   "outputs": [],
   "source": [
    "import numpy as np\n",
    "import numpy.linalg as la"
   ]
  },
  {
   "cell_type": "code",
   "execution_count": 2,
   "id": "ef93a41a",
   "metadata": {},
   "outputs": [
    {
     "name": "stdout",
     "output_type": "stream",
     "text": [
      "[[ 2. -1.  3.  4.]\n",
      " [ 1.  0. -2.  7.]\n",
      " [ 3. -3.  1.  5.]\n",
      " [ 2.  1.  4.  4.]]\n"
     ]
    }
   ],
   "source": [
    "A = np.array ([\n",
    "    [2, -1,  3, 4],\n",
    "    [1,  0, -2, 7],\n",
    "    [3, -3,  1, 5],\n",
    "    [2,  1,  4, 4.]\n",
    "])\n",
    "\n",
    "print (A)"
   ]
  },
  {
   "cell_type": "code",
   "execution_count": 3,
   "id": "844a7df5",
   "metadata": {},
   "outputs": [
    {
     "name": "stdout",
     "output_type": "stream",
     "text": [
      "[[ 9.]\n",
      " [11.]\n",
      " [ 8.]\n",
      " [10.]]\n"
     ]
    }
   ],
   "source": [
    "b = np.array ([\n",
    "    [ 9],\n",
    "    [11],\n",
    "    [ 8],\n",
    "    [10.]\n",
    "])\n",
    "\n",
    "print (b)"
   ]
  },
  {
   "cell_type": "code",
   "execution_count": 4,
   "id": "337a95d7-45f0-4b76-9d9e-f0a3338d1c77",
   "metadata": {},
   "outputs": [
    {
     "name": "stdout",
     "output_type": "stream",
     "text": [
      "4\n"
     ]
    }
   ],
   "source": [
    "m, n = A.shape\n",
    "print (m)"
   ]
  },
  {
   "cell_type": "code",
   "execution_count": 5,
   "id": "e9c8d583-6ee2-4b9a-b550-0aaf7b1339aa",
   "metadata": {},
   "outputs": [
    {
     "name": "stdout",
     "output_type": "stream",
     "text": [
      "[[ 1.          0.          0.          0.        ]\n",
      " [ 0.5         1.          0.          0.        ]\n",
      " [ 1.5        -3.          1.          0.        ]\n",
      " [ 1.          4.         -1.07142857  1.        ]]\n",
      "\n",
      "[[  2.   -1.    3.    4. ]\n",
      " [  0.    0.5  -3.5   5. ]\n",
      " [  0.    0.  -14.   14. ]\n",
      " [  0.    0.    0.   -5. ]]\n",
      "\n",
      "[[ 2. -1.  3.  4.]\n",
      " [ 1.  0. -2.  7.]\n",
      " [ 3. -3.  1.  5.]\n",
      " [ 2.  1.  4.  4.]]\n",
      "\n",
      "[[ 2. -1.  3.  4.]\n",
      " [ 1.  0. -2.  7.]\n",
      " [ 3. -3.  1.  5.]\n",
      " [ 2.  1.  4.  4.]]\n",
      "\n",
      "[[ 0.  0.  0.  0.]\n",
      " [ 0.  0.  0.  0.]\n",
      " [ 0.  0.  0.  0.]\n",
      " [ 0.  0. -0.  0.]]\n"
     ]
    }
   ],
   "source": [
    "L = np.eye (m)\n",
    "R = np.copy (A)\n",
    "for i in range (m - 1):\n",
    "    for j in range (i + 1, m):\n",
    "        t = R [j, i] / R [i, i]\n",
    "        L [j, i] = t\n",
    "        for k in range (i, m):\n",
    "            R [j, k] -= t * R [i, k]\n",
    "\n",
    "print (L)\n",
    "print ()\n",
    "print (R)\n",
    "print ()\n",
    "print (L @ R)\n",
    "print ()\n",
    "print (A)\n",
    "print ()\n",
    "print (np.round (L @ R - A, 10))"
   ]
  },
  {
   "cell_type": "code",
   "execution_count": 6,
   "id": "b83c1671-c2ea-4be0-a472-86c7d53d5bf6",
   "metadata": {},
   "outputs": [
    {
     "name": "stdout",
     "output_type": "stream",
     "text": [
      "[[ 1.          0.          0.          0.        ]\n",
      " [ 0.5         1.          0.          0.        ]\n",
      " [ 1.5        -3.          1.          0.        ]\n",
      " [ 1.          4.         -1.07142857  1.        ]]\n",
      "\n",
      "[[  9. ]\n",
      " [  6.5]\n",
      " [ 14. ]\n",
      " [-10. ]]\n",
      "\n",
      "[[ 9.]\n",
      " [11.]\n",
      " [ 8.]\n",
      " [10.]]\n",
      "\n",
      "[[ 9.]\n",
      " [11.]\n",
      " [ 8.]\n",
      " [10.]]\n",
      "\n",
      "[[0.]\n",
      " [0.]\n",
      " [0.]\n",
      " [0.]]\n"
     ]
    }
   ],
   "source": [
    "y = np.zeros ((m, 1))\n",
    "for i in range (m):\n",
    "    t = b [i, 0]\n",
    "    for k in range (i):\n",
    "        t -= L [i, k] * y [k, 0]\n",
    "    y [i, 0] = t\n",
    "\n",
    "print (L)\n",
    "print ()\n",
    "print (y)\n",
    "print ()\n",
    "print (L @ y)\n",
    "print ()\n",
    "print (b)\n",
    "print ()\n",
    "print (L @ y - b)"
   ]
  },
  {
   "cell_type": "code",
   "execution_count": 7,
   "id": "eed150b5-8519-4563-9d7a-6528e0e96e68",
   "metadata": {},
   "outputs": [
    {
     "name": "stdout",
     "output_type": "stream",
     "text": [
      "[[  2.   -1.    3.    4. ]\n",
      " [  0.    0.5  -3.5   5. ]\n",
      " [  0.    0.  -14.   14. ]\n",
      " [  0.    0.    0.   -5. ]]\n",
      "\n",
      "[[-1.]\n",
      " [ 0.]\n",
      " [ 1.]\n",
      " [ 2.]]\n",
      "\n",
      "[[  9. ]\n",
      " [  6.5]\n",
      " [ 14. ]\n",
      " [-10. ]]\n",
      "\n",
      "[[  9. ]\n",
      " [  6.5]\n",
      " [ 14. ]\n",
      " [-10. ]]\n",
      "\n",
      "[[0.]\n",
      " [0.]\n",
      " [0.]\n",
      " [0.]]\n"
     ]
    }
   ],
   "source": [
    "x = np.zeros ((m, 1))\n",
    "for i in range (m - 1, -1, -1):\n",
    "    t = y [i, 0]\n",
    "    for k in range (i + 1, m):\n",
    "        t -= R [i, k] * x [k, 0]\n",
    "    x [i, 0] = t / R [i, i]\n",
    "\n",
    "print (R)\n",
    "print ()\n",
    "print (x)\n",
    "print ()\n",
    "print (R @ x)\n",
    "print ()\n",
    "print (y)\n",
    "print ()\n",
    "print (R @ x - y)"
   ]
  }
 ],
 "metadata": {
  "kernelspec": {
   "display_name": "Python 3 (ipykernel)",
   "language": "python",
   "name": "python3"
  },
  "language_info": {
   "codemirror_mode": {
    "name": "ipython",
    "version": 3
   },
   "file_extension": ".py",
   "mimetype": "text/x-python",
   "name": "python",
   "nbconvert_exporter": "python",
   "pygments_lexer": "ipython3",
   "version": "3.11.5"
  }
 },
 "nbformat": 4,
 "nbformat_minor": 5
}
