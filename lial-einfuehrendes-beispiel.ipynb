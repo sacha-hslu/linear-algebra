{
 "cells": [
  {
   "cell_type": "markdown",
   "id": "8249b2c1-b762-4e39-8c9f-c77c4f557a75",
   "metadata": {},
   "source": [
    "# Schnittpunkt und Schnittwinkel zweier Geraden"
   ]
  },
  {
   "cell_type": "markdown",
   "id": "23d48b8b-cda1-4a98-a0bb-b529ab5911d9",
   "metadata": {},
   "source": [
    "## Bibliotheken importieren"
   ]
  },
  {
   "cell_type": "code",
   "execution_count": 6,
   "id": "590ecc4b",
   "metadata": {
    "ExecuteTime": {
     "end_time": "2023-09-19T11:23:11.765024Z",
     "start_time": "2023-09-19T11:23:11.763642Z"
    }
   },
   "outputs": [],
   "source": [
    "import numpy as np"
   ]
  },
  {
   "cell_type": "code",
   "execution_count": 7,
   "id": "b8d702a6",
   "metadata": {
    "ExecuteTime": {
     "end_time": "2023-09-19T11:23:11.769434Z",
     "start_time": "2023-09-19T11:23:11.766380Z"
    }
   },
   "outputs": [],
   "source": [
    "import numpy.linalg as la"
   ]
  },
  {
   "cell_type": "code",
   "execution_count": 8,
   "id": "ed681034",
   "metadata": {
    "ExecuteTime": {
     "end_time": "2023-09-19T11:23:11.770456Z",
     "start_time": "2023-09-19T11:23:11.768186Z"
    }
   },
   "outputs": [],
   "source": [
    "import matplotlib.pyplot as pl"
   ]
  },
  {
   "cell_type": "code",
   "execution_count": 9,
   "id": "6cffaab5-32fd-460d-810f-4b6dce7b9e8d",
   "metadata": {
    "ExecuteTime": {
     "end_time": "2023-09-19T11:23:11.774158Z",
     "start_time": "2023-09-19T11:23:11.770941Z"
    }
   },
   "outputs": [],
   "source": [
    "import ipywidgets as iw"
   ]
  },
  {
   "cell_type": "markdown",
   "id": "95bd7e61-20d2-47ce-ac3e-e8ae5c14bf49",
   "metadata": {},
   "source": [
    "## Geraden definieren"
   ]
  },
  {
   "cell_type": "markdown",
   "id": "ed5c2daa-d442-4482-8dad-57183f1f432f",
   "metadata": {},
   "source": [
    "### 4 Punkte"
   ]
  },
  {
   "cell_type": "markdown",
   "id": "9c18b157",
   "metadata": {},
   "source": [
    "<a href=\"https://de.wikipedia.org/wiki/Liste_der_Flugh%C3%A4fen_in_der_Schweiz\">Standorte der 11 Schweizer Regionalflugplätze</a>\n",
    "<br/>\n",
    "Koordinaten in Schweizer Landeskoordinaten CH1903/LV03 (veraltet): \n",
    "<a href=\"https://de.wikipedia.org/wiki/Schweizer_Landeskoordinaten\">Wikipedia</a> /\n",
    "<a href=\"https://www.swisstopo.admin.ch/de/wissen-fakten/geodaesie-vermessung/bezugsysteme/kartenprojektionen.html\">swisstopo</a>\n",
    "<br/>\n",
    "<a href=\"https://www.swisstopo.admin.ch/de/karten-daten-online/karten-geodaten-online/kartenviewer.html\">Link zur Online-Karte von swisstopo</a>"
   ]
  },
  {
   "cell_type": "markdown",
   "id": "7250a173",
   "metadata": {},
   "source": [
    "#### 1. Flugplatz Lausanne - La Blécherette"
   ]
  },
  {
   "cell_type": "markdown",
   "id": "4be5b285-b039-4632-a699-df5296e49e76",
   "metadata": {},
   "source": [
    "<a href=\"https://geohack.toolforge.org/geohack.php?pagename=Liste_der_Flugh%C3%A4fen_in_der_Schweiz&language=de&params=46.545277777778_N_6.6166666666667_E_region:CH_type:landmark&title=%5B%5BFlugplatz+Lausanne-La+Bl%C3%A9cherette%7CLausanne%5D%5D\">Wikipedia</a>\n",
    "/\n",
    "<a href=\"https://s.geo.admin.ch/a1ce2e0bcd\">swisstopo</a>"
   ]
  },
  {
   "cell_type": "markdown",
   "id": "6c2e80d2-65ba-4beb-a01b-039475a870fb",
   "metadata": {},
   "source": [
    "Als Vektor in mathematischer Schreibweise"
   ]
  },
  {
   "cell_type": "markdown",
   "id": "90a0cdcf-23c6-40c2-88ed-d90656e81105",
   "metadata": {},
   "source": [
    "$ \\mathrm{p} = \\begin{pmatrix} 536.955 \\\\ 155.219 \\end{pmatrix} $"
   ]
  },
  {
   "cell_type": "markdown",
   "id": "5384a3f8-8c9e-4a3d-8f02-e6b4eebabb8a",
   "metadata": {},
   "source": [
    "In Python / NumPy"
   ]
  },
  {
   "cell_type": "code",
   "execution_count": 10,
   "id": "8872a486",
   "metadata": {
    "ExecuteTime": {
     "end_time": "2023-09-19T11:23:11.774337Z",
     "start_time": "2023-09-19T11:23:11.772547Z"
    }
   },
   "outputs": [],
   "source": [
    "p = np.array ([\n",
    "    [536.955],\n",
    "    [155.219]\n",
    "])"
   ]
  },
  {
   "cell_type": "markdown",
   "id": "20fb0453",
   "metadata": {},
   "source": [
    "#### 2. Flugplatz St. Gallen - Altenrhein"
   ]
  },
  {
   "cell_type": "markdown",
   "id": "7b766e73-1b9d-4832-ac8a-b286c924482d",
   "metadata": {},
   "source": [
    "<a href=\"https://geohack.toolforge.org/geohack.php?pagename=Liste_der_Flugh%C3%A4fen_in_der_Schweiz&language=de&params=47.485027777778_N_9.5607777777778_E_region:CH_type:landmark&title=%5B%5BFlugplatz+St.+Gallen-Altenrhein%7CSt.+Gallen-Altenrhein%5D%5D\">Wikipedia</a>\n",
    "/\n",
    "<a href=\"https://s.geo.admin.ch/a1ce2ec299\">swisstopo</a>"
   ]
  },
  {
   "cell_type": "code",
   "execution_count": 11,
   "id": "b59ede57",
   "metadata": {
    "ExecuteTime": {
     "end_time": "2023-09-19T11:23:11.776177Z",
     "start_time": "2023-09-19T11:23:11.774728Z"
    }
   },
   "outputs": [],
   "source": [
    "r = np.array ([\n",
    "    [759.925],\n",
    "    [261.525]\n",
    "])"
   ]
  },
  {
   "cell_type": "markdown",
   "id": "d4d859c8",
   "metadata": {},
   "source": [
    "#### 3. Flugplatz Birrfeld"
   ]
  },
  {
   "cell_type": "markdown",
   "id": "3d998c7e-b211-4290-8994-ffa917364fea",
   "metadata": {},
   "source": [
    "<a href=\"https://geohack.toolforge.org/geohack.php?pagename=Liste_der_Flugh%C3%A4fen_in_der_Schweiz&language=de&params=47.443333333333_N_8.2338888888889_E_region:CH_type:landmark&title=%5B%5BFlugplatz+Birrfeld%7CBirrfeld%5D%5D\">Wikipedia</a>\n",
    "/\n",
    "<a href=\"https://s.geo.admin.ch/a1cdd71ce9\">swisstopo</a>"
   ]
  },
  {
   "cell_type": "code",
   "execution_count": 12,
   "id": "fec5a2d1",
   "metadata": {
    "ExecuteTime": {
     "end_time": "2023-09-19T11:23:11.779505Z",
     "start_time": "2023-09-19T11:23:11.776629Z"
    }
   },
   "outputs": [],
   "source": [
    "q = np.array ([\n",
    "    [659.984],\n",
    "    [255.030]\n",
    "])"
   ]
  },
  {
   "cell_type": "markdown",
   "id": "e792db8f",
   "metadata": {},
   "source": [
    "#### 4. Flughafen Lugano"
   ]
  },
  {
   "cell_type": "markdown",
   "id": "fb9e6c3e-db41-4e15-9a95-2786666a8245",
   "metadata": {},
   "source": [
    "<a href=\"https://geohack.toolforge.org/geohack.php?pagename=Liste_der_Flugh%C3%A4fen_in_der_Schweiz&language=de&params=46.004166666667_N_8.9105555555556_E_region:CH_type:landmark&title=%5B%5BFlughafen+Lugano%7CLugano%5D%5D\">Wikipedia</a>\n",
    "/\n",
    "<a href=\"https://s.geo.admin.ch/a1cdd9c785\">swisstopo</a>"
   ]
  },
  {
   "cell_type": "code",
   "execution_count": 13,
   "id": "8c6da3ef",
   "metadata": {
    "ExecuteTime": {
     "end_time": "2023-09-19T11:23:11.782875Z",
     "start_time": "2023-09-19T11:23:11.779839Z"
    }
   },
   "outputs": [],
   "source": [
    "s = np.array ([\n",
    "    [714.020],\n",
    "    [95.804]\n",
    "])"
   ]
  },
  {
   "cell_type": "markdown",
   "id": "eaa4bd3f",
   "metadata": {},
   "source": [
    "### 2 Geraden"
   ]
  },
  {
   "cell_type": "markdown",
   "id": "8d48dcfd",
   "metadata": {},
   "source": [
    "#### 1. Flug von Blecherette nach Altenrhein"
   ]
  },
  {
   "cell_type": "markdown",
   "id": "a7ab3402-a6a8-4c1c-9403-f83da6c4aff1",
   "metadata": {},
   "source": [
    "$ \\mathrm{g} \\, (y) \\; = \\; (1 - y) \\, \\mathrm{p} + y \\, \\mathrm{r} \\;; \\qquad y \\in [0, 1] $"
   ]
  },
  {
   "cell_type": "markdown",
   "id": "24104370-e5cc-4332-a9ca-235f3c78b708",
   "metadata": {},
   "source": [
    "##### Mathematisch als Gerade in Punkt-Richtungs-Form"
   ]
  },
  {
   "cell_type": "markdown",
   "id": "25eb1c92-dcd0-49d6-a1d3-1dbef05c950b",
   "metadata": {},
   "source": [
    "$ g\n",
    "\\; = \\; \\mathrm{p} - y \\, \\mathrm{p} + y \\, \\mathrm{r}\n",
    "\\; = \\; \\mathrm{p} + y \\, (\\mathrm{r} - \\mathrm{p})\n",
    "\\; = \\; \\mathrm{p} + y \\, \\mathrm{u} \\;; \\qquad \\mathrm{u} \\; = \\; \\mathrm{r} - \\mathrm{p}\n",
    "$"
   ]
  },
  {
   "cell_type": "markdown",
   "id": "f5bf6be7-db8a-48b8-b887-5851bedf5cb0",
   "metadata": {},
   "source": [
    "##### Richtungsvektor in Python"
   ]
  },
  {
   "cell_type": "code",
   "execution_count": 14,
   "id": "9ae1643b",
   "metadata": {
    "ExecuteTime": {
     "end_time": "2023-09-19T11:23:11.784179Z",
     "start_time": "2023-09-19T11:23:11.781622Z"
    }
   },
   "outputs": [
    {
     "name": "stdout",
     "output_type": "stream",
     "text": [
      "[[222.97 ]\n",
      " [106.306]]\n"
     ]
    }
   ],
   "source": [
    "u = r - p\n",
    "print (u)"
   ]
  },
  {
   "cell_type": "markdown",
   "id": "c26b914d-299c-48ab-adcc-e784468e8480",
   "metadata": {},
   "source": [
    "##### Geradengleichung"
   ]
  },
  {
   "cell_type": "markdown",
   "id": "5804cac8",
   "metadata": {},
   "source": [
    "$\n",
    "\\mathrm{g} \\, (y)\n",
    "\\; = \\; \\begin{pmatrix} 536.955 \\\\ 155.219 \\end{pmatrix}\n",
    "+ y \\, \\begin{pmatrix} 222.970 \\\\ 106.306 \\end{pmatrix}\n",
    "$"
   ]
  },
  {
   "cell_type": "markdown",
   "id": "caae5078",
   "metadata": {},
   "source": [
    "#### 2. Flug von Birrfeld nach Lugano"
   ]
  },
  {
   "cell_type": "code",
   "execution_count": 15,
   "id": "ce52bbe8",
   "metadata": {
    "ExecuteTime": {
     "end_time": "2023-09-19T11:23:11.786060Z",
     "start_time": "2023-09-19T11:23:11.783803Z"
    }
   },
   "outputs": [
    {
     "name": "stdout",
     "output_type": "stream",
     "text": [
      "[[  54.036]\n",
      " [-159.226]]\n"
     ]
    }
   ],
   "source": [
    "v = s - q\n",
    "print (v)"
   ]
  },
  {
   "cell_type": "markdown",
   "id": "b3e14374-66fe-438f-a895-f8d8965cde1c",
   "metadata": {},
   "source": [
    "##### Geradengleichung"
   ]
  },
  {
   "cell_type": "markdown",
   "id": "e9b0af78-664d-40cd-b243-e7d4d5a97c4e",
   "metadata": {},
   "source": [
    "$\n",
    "\\mathrm{h} \\, (z)\n",
    "\\; = \\; \\begin{pmatrix} 659.984 \\\\ 255.030 \\end{pmatrix}\n",
    "+ z \\, \\begin{pmatrix} 54.036 \\\\ -159.226 \\end{pmatrix}\n",
    "$"
   ]
  },
  {
   "cell_type": "markdown",
   "id": "524692a1",
   "metadata": {},
   "source": [
    "#### Beide Flugrouten zeichnen"
   ]
  },
  {
   "cell_type": "code",
   "execution_count": 16,
   "id": "ae31f609",
   "metadata": {
    "ExecuteTime": {
     "end_time": "2023-09-19T11:23:11.833221Z",
     "start_time": "2023-09-19T11:23:11.786315Z"
    }
   },
   "outputs": [],
   "source": [
    "def PlotVec (p, u, c):\n",
    "    pl.arrow (p [0] [0], p [1] [0], u [0] [0], u [1] [0],\n",
    "        color = c,\n",
    "        head_width = 5,\n",
    "        length_includes_head = True,\n",
    "        fill = False)"
   ]
  },
  {
   "cell_type": "code",
   "execution_count": 17,
   "id": "7c33d3a4",
   "metadata": {
    "ExecuteTime": {
     "end_time": "2023-09-19T11:23:12.059207Z",
     "start_time": "2023-09-19T11:23:11.788605Z"
    }
   },
   "outputs": [
    {
     "data": {
      "text/plain": "<Figure size 640x480 with 1 Axes>",
      "image/png": "[encoded data removed]"
     },
     "metadata": {},
     "output_type": "display_data"
    }
   ],
   "source": [
    "PlotVec (p, u, 'blue')\n",
    "PlotVec (q, v, 'green')\n",
    "pl.axis ('equal')\n",
    "pl.grid ()"
   ]
  },
  {
   "cell_type": "markdown",
   "id": "fe52453d",
   "metadata": {},
   "source": [
    "#### Schnittpunkt berechnen"
   ]
  },
  {
   "cell_type": "markdown",
   "id": "b25cbe56-b4eb-4b07-9ad9-730c826ee529",
   "metadata": {},
   "source": [
    "##### Experimentell (interaktiv)"
   ]
  },
  {
   "cell_type": "code",
   "execution_count": 18,
   "id": "d848ef82-2ccb-43ae-873e-6e6b41591f8a",
   "metadata": {
    "ExecuteTime": {
     "end_time": "2023-09-19T11:23:12.063502Z",
     "start_time": "2023-09-19T11:23:12.059540Z"
    }
   },
   "outputs": [],
   "source": [
    "def PlotPnt (p, c):\n",
    "    pl.plot (p [0], p [1], 'o', color = c)"
   ]
  },
  {
   "cell_type": "code",
   "execution_count": 19,
   "id": "0aff5fd2-2c52-4b29-9ecc-747a919e0f32",
   "metadata": {
    "ExecuteTime": {
     "end_time": "2023-09-19T11:23:12.064774Z",
     "start_time": "2023-09-19T11:23:12.062388Z"
    }
   },
   "outputs": [],
   "source": [
    "def Callback1 (y, z):\n",
    "    g = p + y * u; PlotVec (p, u, 'blue' ); PlotPnt (g, 'blue' )\n",
    "    h = q + z * v; PlotVec (q, v, 'green'); PlotPnt (h, 'green')\n",
    "    pl.axis ('equal')\n",
    "    pl.grid ()\n",
    "    \n",
    "# Callback1 (0.1, 0.9)"
   ]
  },
  {
   "cell_type": "code",
   "execution_count": 20,
   "id": "b8915999-c465-4e61-9a17-d1ef4b154c38",
   "metadata": {
    "ExecuteTime": {
     "end_time": "2023-09-19T11:23:12.128237Z",
     "start_time": "2023-09-19T11:23:12.066031Z"
    }
   },
   "outputs": [],
   "source": [
    "Slider11 = iw.FloatSlider (min = -0.1, max = 1.1, step = 0.001, value = 0.5, description = 'y [%]')\n",
    "Slider12 = iw.FloatSlider (min = -0.1, max = 1.1, step = 0.001, value = 0.5, description = 'z [%]')\n",
    "UserInterface1 = iw.HBox ([Slider11, Slider12])\n",
    "Output1 = iw.interactive_output (Callback1, {'y': Slider11, 'z': Slider12})"
   ]
  },
  {
   "cell_type": "code",
   "execution_count": 21,
   "id": "fa8d1c52-1135-4757-b09e-e02364268668",
   "metadata": {
    "ExecuteTime": {
     "end_time": "2023-09-19T11:23:12.128661Z",
     "start_time": "2023-09-19T11:23:12.123735Z"
    }
   },
   "outputs": [
    {
     "data": {
      "text/plain": "HBox(children=(FloatSlider(value=0.5, description='y [%]', max=1.1, min=-0.1, step=0.001), FloatSlider(value=0…",
      "application/vnd.jupyter.widget-view+json": {
       "version_major": 2,
       "version_minor": 0,
       "model_id": "27d4338ae01c4a74870b34a5fd9e4ee3"
      }
     },
     "metadata": {},
     "output_type": "display_data"
    },
    {
     "data": {
      "text/plain": "Output()",
      "application/vnd.jupyter.widget-view+json": {
       "version_major": 2,
       "version_minor": 0,
       "model_id": "6cdba84782324b319e0dee9f63e4504c"
      }
     },
     "metadata": {},
     "output_type": "display_data"
    }
   ],
   "source": [
    "display (UserInterface1, Output1)"
   ]
  },
  {
   "cell_type": "markdown",
   "id": "7f48e3dd-bc0b-4514-979d-ee099e28adc5",
   "metadata": {},
   "source": [
    "##### Berechnung (Mathematik)"
   ]
  },
  {
   "cell_type": "markdown",
   "id": "87d0f1f4-3910-4bf9-9cd9-acbb23307017",
   "metadata": {},
   "source": [
    "###### vektoriell"
   ]
  },
  {
   "cell_type": "markdown",
   "id": "a7ff8c81-8f09-41ff-9537-cb5d108721c9",
   "metadata": {},
   "source": [
    "$ \\mathrm{g} \\, (y) = \\mathrm{h} \\, (z) $"
   ]
  },
  {
   "cell_type": "markdown",
   "id": "41199a78",
   "metadata": {},
   "source": [
    "$ p + y \\, \\mathrm{u} = q + z \\, \\mathrm{v} $"
   ]
  },
  {
   "cell_type": "markdown",
   "id": "c48830ba-d011-4f88-99f2-5f0eaf387025",
   "metadata": {},
   "source": [
    "$\n",
    "y \\, \\mathrm{u} - z \\, \\mathrm{v}\n",
    "    \\; = \\; \\mathrm{q} - \\mathrm{p}\n",
    "$"
   ]
  },
  {
   "cell_type": "markdown",
   "id": "52679bde",
   "metadata": {},
   "source": [
    "$\n",
    "y \\, \\begin{pmatrix} u_1 \\\\ u_2 \\end{pmatrix} - z \\, \\begin{pmatrix} v_1 \\\\ v_2 \\end{pmatrix}\n",
    "    \\; = \\; \\begin{pmatrix} y \\, u_1 \\\\ y \\, u_2 \\end{pmatrix} - \\begin{pmatrix} z \\, v_1 \\\\ z \\, v_2 \\end{pmatrix}\n",
    "    \\; = \\; \\begin{pmatrix} y \\, u_1 - z \\, v_1 \\\\ z \\, u_2 - z \\, v_2 \\end{pmatrix}\n",
    "    \\quad = \\quad \\begin{pmatrix} q_1 \\\\ q_2 \\end{pmatrix} - \\begin{pmatrix} p_1 \\\\ p_2 \\end{pmatrix}\n",
    "    \\; = \\; \\begin{pmatrix} q_1 - p_1 \\\\ q_2 - p_2 \\end{pmatrix}\n",
    "$"
   ]
  },
  {
   "cell_type": "markdown",
   "id": "be9be137-fabf-44c6-9822-b9c19052d60a",
   "metadata": {},
   "source": [
    "###### als 2 x 2 - Gleichungssystem"
   ]
  },
  {
   "cell_type": "markdown",
   "id": "69c39ea1-9656-4d85-89d4-b9cba0a6c608",
   "metadata": {},
   "source": [
    "$\\begin{align}\n",
    "u_1 \\, y - v_1 \\, z &\\;=\\; q_1 - p_1 \\\\\n",
    "u_2 \\, y - v_2 \\, z &\\;=\\; q_2 - p_2\n",
    "\\end{align}$"
   ]
  },
  {
   "cell_type": "markdown",
   "id": "353802a6-ab2e-4973-817c-4e35bd3a9db2",
   "metadata": {},
   "source": [
    "###### in Matrixform"
   ]
  },
  {
   "cell_type": "markdown",
   "id": "b8e5f2e0-e3fb-412b-b80a-94da4ebbe3dd",
   "metadata": {},
   "source": [
    "$\n",
    "\\begin{pmatrix} u_1 \\, y - v_1 \\, z \\\\ u_2 \\, y - v_2 \\, z \\end{pmatrix}\n",
    "    \\; = \\; \\begin{pmatrix} u_1 & - \\, v_1 \\\\ u_2 & - v_2 \\end{pmatrix}\n",
    "        \\begin{pmatrix} y \\\\ z \\end{pmatrix}\n",
    "    \\; = \\; \\begin{pmatrix} q_1 - p_1 \\\\ q_2 - p_2 \\end{pmatrix}\n",
    "$"
   ]
  },
  {
   "cell_type": "markdown",
   "id": "5b53ce7d",
   "metadata": {},
   "source": [
    "$\n",
    "    \\mathrm{A} \\, \\mathrm{x} \\; = \\; \\mathrm{b} \\;;\n",
    "        \\qquad \\mathrm{A} \\; = \\; \\begin{pmatrix} u_1 & - v_1 \\\\ u_2 & - v_2\\end{pmatrix} \\;;\n",
    "        \\qquad \\mathrm{x} \\; = \\; \\begin{pmatrix} y \\\\ z \\end{pmatrix} \\;;\n",
    "        \\qquad \\mathrm{b} \\; = \\; \\begin{pmatrix} q_1 - p_1 \\\\ u_2 - p_2 \\end{pmatrix}\n",
    "$"
   ]
  },
  {
   "cell_type": "markdown",
   "id": "573daea4-f5a6-429b-9c34-a73a5faf4311",
   "metadata": {},
   "source": [
    "##### Berechnung (Python)"
   ]
  },
  {
   "cell_type": "code",
   "execution_count": 22,
   "id": "349ff3bd",
   "metadata": {
    "ExecuteTime": {
     "end_time": "2023-09-19T11:23:12.131858Z",
     "start_time": "2023-09-19T11:23:12.129014Z"
    }
   },
   "outputs": [
    {
     "name": "stdout",
     "output_type": "stream",
     "text": [
      "[[222.97  -54.036]\n",
      " [106.306 159.226]]\n"
     ]
    }
   ],
   "source": [
    "A = np.concatenate ((u, -v), axis = 1)\n",
    "print (A)"
   ]
  },
  {
   "cell_type": "code",
   "execution_count": 23,
   "id": "f3ca2f02",
   "metadata": {
    "ExecuteTime": {
     "end_time": "2023-09-19T11:23:12.138225Z",
     "start_time": "2023-09-19T11:23:12.131328Z"
    }
   },
   "outputs": [
    {
     "name": "stdout",
     "output_type": "stream",
     "text": [
      "[[123.029]\n",
      " [ 99.811]]\n"
     ]
    }
   ],
   "source": [
    "b = q - p\n",
    "print (b)"
   ]
  },
  {
   "cell_type": "code",
   "execution_count": 24,
   "id": "43d3f428",
   "metadata": {
    "ExecuteTime": {
     "end_time": "2023-09-19T11:23:12.138845Z",
     "start_time": "2023-09-19T11:23:12.134240Z"
    }
   },
   "outputs": [
    {
     "name": "stdout",
     "output_type": "stream",
     "text": [
      "[[0.60568816]\n",
      " [0.22246815]]\n"
     ]
    }
   ],
   "source": [
    "x = la.solve (A, b)\n",
    "print (x)"
   ]
  },
  {
   "cell_type": "code",
   "execution_count": 25,
   "id": "127ed8b3-8341-48b9-a614-0d7a6b95821a",
   "metadata": {
    "ExecuteTime": {
     "end_time": "2023-09-19T11:23:12.139615Z",
     "start_time": "2023-09-19T11:23:12.136529Z"
    }
   },
   "outputs": [
    {
     "name": "stdout",
     "output_type": "stream",
     "text": [
      "[0.60568816]\n",
      "[0.22246815]\n"
     ]
    }
   ],
   "source": [
    "[y, z] = x\n",
    "print (y)\n",
    "print (z)"
   ]
  },
  {
   "cell_type": "code",
   "execution_count": 26,
   "id": "0e209ae7",
   "metadata": {
    "ExecuteTime": {
     "end_time": "2023-09-19T11:23:12.142435Z",
     "start_time": "2023-09-19T11:23:12.140019Z"
    }
   },
   "outputs": [
    {
     "name": "stdout",
     "output_type": "stream",
     "text": [
      "[[672.0052892 ]\n",
      " [219.60728562]]\n"
     ]
    }
   ],
   "source": [
    "g = p + y * u\n",
    "print (g)"
   ]
  },
  {
   "cell_type": "markdown",
   "id": "e78ba86c-4947-44ad-8394-0a31ad19c2d3",
   "metadata": {},
   "source": [
    "##### Probe"
   ]
  },
  {
   "cell_type": "code",
   "execution_count": 27,
   "id": "0d5027c0",
   "metadata": {
    "ExecuteTime": {
     "end_time": "2023-09-19T11:23:12.146967Z",
     "start_time": "2023-09-19T11:23:12.142320Z"
    }
   },
   "outputs": [
    {
     "name": "stdout",
     "output_type": "stream",
     "text": [
      "[[672.0052892 ]\n",
      " [219.60728562]]\n"
     ]
    }
   ],
   "source": [
    "h = q + z * v\n",
    "print (h)"
   ]
  },
  {
   "cell_type": "code",
   "execution_count": 28,
   "id": "d57851c6-44ae-4a22-8851-85fed2d6ad12",
   "metadata": {
    "ExecuteTime": {
     "end_time": "2023-09-19T11:23:12.148901Z",
     "start_time": "2023-09-19T11:23:12.145394Z"
    }
   },
   "outputs": [
    {
     "data": {
      "text/plain": "array([[-1.13686838e-13],\n       [ 0.00000000e+00]])"
     },
     "execution_count": 28,
     "metadata": {},
     "output_type": "execute_result"
    }
   ],
   "source": [
    "g - h"
   ]
  },
  {
   "cell_type": "markdown",
   "id": "718d9039-869d-4546-94c3-95407f98de97",
   "metadata": {},
   "source": [
    "##### Zeichnung"
   ]
  },
  {
   "cell_type": "code",
   "execution_count": 29,
   "id": "86fef0d4-da01-410a-a406-48355fe65f53",
   "metadata": {
    "ExecuteTime": {
     "end_time": "2023-09-19T11:23:12.221878Z",
     "start_time": "2023-09-19T11:23:12.151943Z"
    }
   },
   "outputs": [
    {
     "data": {
      "text/plain": "<Figure size 640x480 with 1 Axes>",
      "image/png": "[encoded data removed]"
     },
     "metadata": {},
     "output_type": "display_data"
    }
   ],
   "source": [
    "PlotVec (p, u, 'blue')\n",
    "PlotVec (q, v, 'green')\n",
    "PlotPnt (g, 'red')\n",
    "pl.axis ('equal')\n",
    "pl.grid ()"
   ]
  },
  {
   "cell_type": "markdown",
   "id": "8287b11c-a008-4f26-84a6-36279d87d3d4",
   "metadata": {},
   "source": [
    "##### <a href=\"https://s.geo.admin.ch/a1cdca3cdb\">Der Schnittpunkt auf der Karte</a>"
   ]
  },
  {
   "cell_type": "markdown",
   "id": "16eb4fbd-ca6e-4a3b-a2a0-90b8247da6f3",
   "metadata": {},
   "source": [
    "## Geraden parametrisiert über die zurückgelegte Strecke"
   ]
  },
  {
   "cell_type": "markdown",
   "id": "500442cf-cf09-4348-8e7a-42227bff293e",
   "metadata": {},
   "source": [
    "### Länge der Strecken"
   ]
  },
  {
   "cell_type": "code",
   "execution_count": 30,
   "id": "8dd3b64c-a2c3-4013-86a5-0a853c622e58",
   "metadata": {
    "ExecuteTime": {
     "end_time": "2023-09-19T11:23:12.222183Z",
     "start_time": "2023-09-19T11:23:12.204718Z"
    }
   },
   "outputs": [
    {
     "name": "stdout",
     "output_type": "stream",
     "text": [
      "247.01535688292734\n"
     ]
    }
   ],
   "source": [
    "Lu = la.norm (u)\n",
    "print (Lu)"
   ]
  },
  {
   "cell_type": "code",
   "execution_count": 31,
   "id": "cd2d589e-29e1-47d2-8c8a-f1b54b353417",
   "metadata": {
    "ExecuteTime": {
     "end_time": "2023-09-19T11:23:12.222760Z",
     "start_time": "2023-09-19T11:23:12.208972Z"
    }
   },
   "outputs": [
    {
     "name": "stdout",
     "output_type": "stream",
     "text": [
      "168.14520026453326\n"
     ]
    }
   ],
   "source": [
    "Lv = la.norm (v)\n",
    "print (Lv)"
   ]
  },
  {
   "cell_type": "markdown",
   "id": "f187affd-d3bf-4c82-9872-2c9bfaf1386a",
   "metadata": {},
   "source": [
    "### Richtungsvektoren skalieren"
   ]
  },
  {
   "cell_type": "code",
   "execution_count": 32,
   "id": "b2d8c9d7-33b7-4789-b020-ab9ccbf86fcf",
   "metadata": {
    "ExecuteTime": {
     "end_time": "2023-09-19T11:23:12.222896Z",
     "start_time": "2023-09-19T11:23:12.211693Z"
    }
   },
   "outputs": [
    {
     "name": "stdout",
     "output_type": "stream",
     "text": [
      "[[0.90265643]\n",
      " [0.43036191]]\n"
     ]
    }
   ],
   "source": [
    "u0 = u / Lu\n",
    "print (u0)"
   ]
  },
  {
   "cell_type": "code",
   "execution_count": 33,
   "id": "4c477c8b-da20-4355-84ca-2441e801c164",
   "metadata": {
    "ExecuteTime": {
     "end_time": "2023-09-19T11:23:12.223730Z",
     "start_time": "2023-09-19T11:23:12.213782Z"
    }
   },
   "outputs": [
    {
     "name": "stdout",
     "output_type": "stream",
     "text": [
      "[[ 0.32136511]\n",
      " [-0.94695537]]\n"
     ]
    }
   ],
   "source": [
    "v0 = v / Lv\n",
    "print (v0)"
   ]
  },
  {
   "cell_type": "markdown",
   "id": "d244e140-0965-4f4d-ba93-406ba9f094f8",
   "metadata": {},
   "source": [
    "#### Jeder Richtungsvektor ist jetzt 1 km lang"
   ]
  },
  {
   "cell_type": "code",
   "execution_count": 34,
   "id": "ca127da0-a753-457e-9727-f74a6dd94aba",
   "metadata": {
    "ExecuteTime": {
     "end_time": "2023-09-19T11:23:12.223905Z",
     "start_time": "2023-09-19T11:23:12.216086Z"
    }
   },
   "outputs": [
    {
     "data": {
      "text/plain": "1.0"
     },
     "execution_count": 34,
     "metadata": {},
     "output_type": "execute_result"
    }
   ],
   "source": [
    "la.norm (u0)"
   ]
  },
  {
   "cell_type": "code",
   "execution_count": 35,
   "id": "23bbb2db-f3d6-4b8a-8eca-41e5bbbcd69b",
   "metadata": {
    "ExecuteTime": {
     "end_time": "2023-09-19T11:23:12.225274Z",
     "start_time": "2023-09-19T11:23:12.218932Z"
    }
   },
   "outputs": [
    {
     "data": {
      "text/plain": "1.0"
     },
     "execution_count": 35,
     "metadata": {},
     "output_type": "execute_result"
    }
   ],
   "source": [
    "la.norm (v0)"
   ]
  },
  {
   "cell_type": "markdown",
   "id": "fec2a0b5-dc70-4077-ab30-7a74de0a8973",
   "metadata": {},
   "source": [
    "### Interaktive Zeichnung"
   ]
  },
  {
   "cell_type": "code",
   "execution_count": 36,
   "id": "e4e369e7-5786-4e5e-afcf-aeb603bfe860",
   "metadata": {
    "ExecuteTime": {
     "end_time": "2023-09-19T11:23:12.324260Z",
     "start_time": "2023-09-19T11:23:12.223977Z"
    }
   },
   "outputs": [
    {
     "data": {
      "text/plain": "HBox(children=(FloatSlider(value=123.50767844146367, description='y [km]', max=247.01535688292734), FloatSlide…",
      "application/vnd.jupyter.widget-view+json": {
       "version_major": 2,
       "version_minor": 0,
       "model_id": "66665171a953455184875c5c878ef9ad"
      }
     },
     "metadata": {},
     "output_type": "display_data"
    },
    {
     "data": {
      "text/plain": "Output()",
      "application/vnd.jupyter.widget-view+json": {
       "version_major": 2,
       "version_minor": 0,
       "model_id": "57e3c827a356489fad21153f90e4793d"
      }
     },
     "metadata": {},
     "output_type": "display_data"
    }
   ],
   "source": [
    "def Callback2 (y, z):\n",
    "    pu = p + y * u0; PlotVec (p, u, 'blue' ); PlotPnt (pu, 'blue' )\n",
    "    qv = q + z * v0; PlotVec (q, v, 'green'); PlotPnt (qv, 'green')\n",
    "    pl.axis ('equal')\n",
    "    pl.grid ()\n",
    "    \n",
    "Slider21 = iw.FloatSlider (min = 0.0, max = Lu, step = 0.1, value = Lu / 2.0, description = 'y [km]')\n",
    "Slider22 = iw.FloatSlider (min = 0.0, max = Lv, step = 0.1, value = Lv / 2.0, description = 'z [km]')\n",
    "UserInterface2 = iw.HBox ([Slider21, Slider22])\n",
    "Output2 = iw.interactive_output (Callback2, {'y': Slider21, 'z': Slider22})\n",
    "\n",
    "display (UserInterface2, Output2)"
   ]
  },
  {
   "cell_type": "markdown",
   "id": "4ed689f3-5694-42fb-8f23-d862f866867c",
   "metadata": {},
   "source": [
    "## Geraden parametrisiert über die Zeit"
   ]
  },
  {
   "cell_type": "markdown",
   "id": "69078949-1c06-4aa9-9d00-ad1c45361f56",
   "metadata": {},
   "source": [
    "### Gerade g: Lausanne Blecherette - St. Gallen Altenrhein"
   ]
  },
  {
   "cell_type": "markdown",
   "id": "f1d710c0-ca0a-4195-8d82-21ba265da12b",
   "metadata": {},
   "source": [
    "<a href=\"https://de.wikipedia.org/wiki/Piper_PA-28\">Piper PA-28</a>"
   ]
  },
  {
   "cell_type": "markdown",
   "id": "fec5b508-3f37-4b62-99ef-b40d1123108e",
   "metadata": {},
   "source": [
    "Reisegeschwindigkeit 100&hellip;140 kn = 180&hellip;260 km/h"
   ]
  },
  {
   "cell_type": "markdown",
   "id": "7ba02627-a78d-47d0-9aa6-2633ba9f9b55",
   "metadata": {},
   "source": [
    "### Gerade h: Birrfeld - Lugano"
   ]
  },
  {
   "cell_type": "markdown",
   "id": "9eab73ba-cf25-4e6e-bc14-efe33d6c0aa1",
   "metadata": {},
   "source": [
    "<a href=\"https://de.wikipedia.org/wiki/Cessna_172\">Cessna 172</a>"
   ]
  },
  {
   "cell_type": "markdown",
   "id": "560aa3b8-a1b8-4edc-ab1b-ddbf4b273ac2",
   "metadata": {},
   "source": [
    "Reisegeschwindigkeit 120 kn = 222 km/h"
   ]
  },
  {
   "cell_type": "markdown",
   "id": "6619d3fc-dfff-45c6-9aeb-f8b48f736fc5",
   "metadata": {},
   "source": [
    "### Interaktive Zeichnung"
   ]
  },
  {
   "cell_type": "code",
   "execution_count": 37,
   "id": "cc181886-a121-4c3c-86b6-4853236a4e0c",
   "metadata": {
    "ExecuteTime": {
     "end_time": "2023-09-19T11:23:12.345238Z",
     "start_time": "2023-09-19T11:23:12.282827Z"
    }
   },
   "outputs": [
    {
     "data": {
      "text/plain": "HBox(children=(FloatSlider(value=0.0, description='t [h]', max=1.2, step=0.001), FloatSlider(value=220.0, desc…",
      "application/vnd.jupyter.widget-view+json": {
       "version_major": 2,
       "version_minor": 0,
       "model_id": "8f12db47f43b4a4ea6f88b63369e34fb"
      }
     },
     "metadata": {},
     "output_type": "display_data"
    },
    {
     "data": {
      "text/plain": "Output()",
      "application/vnd.jupyter.widget-view+json": {
       "version_major": 2,
       "version_minor": 0,
       "model_id": "e1ff4bf467e94b2e84a28768b29d83de"
      }
     },
     "metadata": {},
     "output_type": "display_data"
    }
   ],
   "source": [
    "def Callback3 (time, speed):\n",
    "    u1 = u0 * speed; pu = p + time * u1; PlotVec (p, u, 'blue' ); PlotPnt (pu, 'blue' )\n",
    "    v1 = v0 * 222.0; qv = q + time * v1; PlotVec (q, v, 'green'); PlotPnt (qv, 'green')\n",
    "    pl.axis ('equal')\n",
    "    pl.grid ()\n",
    "\n",
    "Slider31 = iw.FloatSlider (min = 0.0, max = 1.2, step = 0.001, value = 0.0, description = 't [h]')\n",
    "Slider32 = iw.FloatSlider (min = 180.0, max = 2600.0, step = 1, value = (180.0 + 260.0)  / 2.0, description = 'v [km/h]')\n",
    "UserInterface3 = iw.HBox ([Slider31, Slider32])\n",
    "Output3 = iw.interactive_output (Callback3, {'time': Slider31, 'speed': Slider32})\n",
    "\n",
    "display (UserInterface3, Output3)"
   ]
  },
  {
   "cell_type": "markdown",
   "id": "3da2ebae-e35b-4447-889f-f51c7784a212",
   "metadata": {},
   "source": [
    "Kollision bei einer Geschwindigkeit von ca. 885 km/h auf der Strecke Lausanne - St. Gallen <br/>\n",
    "z. B. mit einem <a href=\"https://de.wikipedia.org/wiki/Airbus_A330\">Airbus A330-200</a>"
   ]
  },
  {
   "cell_type": "markdown",
   "id": "2889ccd0-f040-42aa-93f9-ad4eed7fdeed",
   "metadata": {},
   "source": [
    "## Schnittwinkel"
   ]
  },
  {
   "cell_type": "markdown",
   "id": "1da67df8-9775-48cb-8166-7a50a451406d",
   "metadata": {},
   "source": [
    "### Skalarprodukt"
   ]
  },
  {
   "cell_type": "code",
   "execution_count": 38,
   "id": "d109ac4b-18e1-464e-96a1-292212eeb75b",
   "metadata": {
    "ExecuteTime": {
     "end_time": "2023-09-19T11:23:12.353397Z",
     "start_time": "2023-09-19T11:23:12.345630Z"
    }
   },
   "outputs": [
    {
     "name": "stdout",
     "output_type": "stream",
     "text": [
      "-4878.272236000015\n"
     ]
    }
   ],
   "source": [
    "s = np.sum (u * v)\n",
    "print (s)"
   ]
  },
  {
   "cell_type": "markdown",
   "id": "0b6d385a-494c-4942-ab0d-c69cba3e1082",
   "metadata": {},
   "source": [
    "### Quotient aus Skalarprodukt und Produkt der Längen ergibt den Cosinus"
   ]
  },
  {
   "cell_type": "code",
   "execution_count": 39,
   "id": "6076d71a-b21b-44a8-8f8c-60cf38fcc8d3",
   "metadata": {
    "ExecuteTime": {
     "end_time": "2023-09-19T11:23:12.354087Z",
     "start_time": "2023-09-19T11:23:12.350259Z"
    }
   },
   "outputs": [
    {
     "name": "stdout",
     "output_type": "stream",
     "text": [
      "-0.11745123937565277\n"
     ]
    }
   ],
   "source": [
    "c = s / (Lu * Lv)\n",
    "print (c)"
   ]
  },
  {
   "cell_type": "markdown",
   "id": "0b6f7a41-cc23-4b08-b2c5-cde8d2a0e5d6",
   "metadata": {},
   "source": [
    "### Winkel"
   ]
  },
  {
   "cell_type": "markdown",
   "id": "45fa2a53-85b4-4303-a3dd-a2b8bae78a9e",
   "metadata": {},
   "source": [
    "#### im Bogenmass"
   ]
  },
  {
   "cell_type": "code",
   "execution_count": 40,
   "id": "6b59b577-d0eb-47a7-b504-2dd8c2ae96aa",
   "metadata": {
    "ExecuteTime": {
     "end_time": "2023-09-19T11:23:12.356593Z",
     "start_time": "2023-09-19T11:23:12.354430Z"
    }
   },
   "outputs": [
    {
     "name": "stdout",
     "output_type": "stream",
     "text": [
      "1.6885192922907417\n"
     ]
    }
   ],
   "source": [
    "b = np.arccos (c)\n",
    "print (b)"
   ]
  },
  {
   "cell_type": "markdown",
   "id": "74eb5c53-b1a8-4076-b189-8bdf69f3a0b4",
   "metadata": {},
   "source": [
    "#### und im Gradmass"
   ]
  },
  {
   "cell_type": "code",
   "execution_count": 41,
   "id": "a9c337c1-29f2-4319-af7d-b7e640298809",
   "metadata": {
    "ExecuteTime": {
     "end_time": "2023-09-19T11:23:12.363772Z",
     "start_time": "2023-09-19T11:23:12.357015Z"
    }
   },
   "outputs": [
    {
     "name": "stdout",
     "output_type": "stream",
     "text": [
      "96.74502907467614\n"
     ]
    }
   ],
   "source": [
    "w1 = b * 180.0 / np.pi\n",
    "print (w1)"
   ]
  },
  {
   "cell_type": "markdown",
   "id": "6bd540b7-cb1d-45db-97ab-3740dd2bfb85",
   "metadata": {},
   "source": [
    "Komplementärwinkel im Gradmass"
   ]
  },
  {
   "cell_type": "code",
   "execution_count": 42,
   "id": "868eabc8-2b5e-4286-a1c9-b249df39b504",
   "metadata": {
    "ExecuteTime": {
     "end_time": "2023-09-19T11:23:12.364158Z",
     "start_time": "2023-09-19T11:23:12.360109Z"
    }
   },
   "outputs": [
    {
     "name": "stdout",
     "output_type": "stream",
     "text": [
      "83.25497092532386\n"
     ]
    }
   ],
   "source": [
    "w2 = 180 - w1\n",
    "print (w2)"
   ]
  }
 ],
 "metadata": {
  "kernelspec": {
   "display_name": "Python 3 (ipykernel)",
   "language": "python",
   "name": "python3"
  },
  "language_info": {
   "codemirror_mode": {
    "name": "ipython",
    "version": 3
   },
   "file_extension": ".py",
   "mimetype": "text/x-python",
   "name": "python",
   "nbconvert_exporter": "python",
   "pygments_lexer": "ipython3",
   "version": "3.11.5"
  }
 },
 "nbformat": 4,
 "nbformat_minor": 5
}
