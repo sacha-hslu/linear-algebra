{
 "cells": [
  {
   "cell_type": "markdown",
   "id": "d919889a",
   "metadata": {},
   "source": [
    "# Lineare Algebra - SW 04 - Lösungen"
   ]
  },
  {
   "cell_type": "code",
   "execution_count": 1,
   "id": "8cfce432",
   "metadata": {},
   "outputs": [],
   "source": [
    "import numpy as np\n",
    "import numpy.linalg as la"
   ]
  },
  {
   "cell_type": "markdown",
   "id": "158c68ea",
   "metadata": {},
   "source": [
    "## Aufgabe 1"
   ]
  },
  {
   "cell_type": "markdown",
   "id": "3acce8eb",
   "metadata": {},
   "source": [
    "$ \\begin{align}\n",
    "    \\mathbf{A}\n",
    "        &\\;=\\; \\begin{pmatrix} 4 & 3 \\\\ 8 & 6 \\end{pmatrix}\n",
    "        \\;; \\qquad \\mathrm{det} \\, (\\mathbf{A}) \\;=\\; 4 \\cdot 6 - 8 \\cdot 3 \\;=\\; 24 - 24 \\;=\\; 0\n",
    "        \\;; \\qquad \\mbox{$\\mathbf{A}$ singulär, nicht invertierbar}\n",
    "\\end{align} $"
   ]
  },
  {
   "cell_type": "code",
   "execution_count": 2,
   "id": "ad73eb23",
   "metadata": {},
   "outputs": [
    {
     "name": "stdout",
     "output_type": "stream",
     "text": [
      "0.0\n"
     ]
    }
   ],
   "source": [
    "A = np.array ([[4, 3], [8, 6]])\n",
    "print (la.det (A))"
   ]
  },
  {
   "cell_type": "markdown",
   "id": "f42e4d98",
   "metadata": {},
   "source": [
    "$ \\begin{align}\n",
    "    \\mathbf{B} \n",
    "        &\\;=\\; \\begin{pmatrix} 4 & 3 \\\\ 8 & 7 \\end{pmatrix} \\;;\n",
    "        \\qquad \\mathrm{det} \\, (\\mathbf{B}) \\;=\\; 4 \\cdot 7 - 8 \\cdot 3 \\;=\\; 28 - 24 \\;=\\; 4 \\;;\n",
    "        \\qquad \\mathbf{B}^{-1} \\;=\\; \\frac{1}{4} \\, \\begin{pmatrix} 7 & -3 \\\\ -8 & 4 \\end{pmatrix}\n",
    "\\end{align} $"
   ]
  },
  {
   "cell_type": "code",
   "execution_count": 3,
   "id": "28a1f369",
   "metadata": {},
   "outputs": [
    {
     "name": "stdout",
     "output_type": "stream",
     "text": [
      "[[4 3]\n",
      " [8 7]]\n"
     ]
    }
   ],
   "source": [
    "B = np.array ([[4, 3], [8, 7]])\n",
    "print (B)"
   ]
  },
  {
   "cell_type": "code",
   "execution_count": 4,
   "id": "77cb226b",
   "metadata": {},
   "outputs": [
    {
     "name": "stdout",
     "output_type": "stream",
     "text": [
      "[[ 1.75 -0.75]\n",
      " [-2.    1.  ]]\n"
     ]
    }
   ],
   "source": [
    "Bi = np.array ([[7, -3], [-8, 4]]) / 4.0\n",
    "print (Bi)"
   ]
  },
  {
   "cell_type": "code",
   "execution_count": 5,
   "id": "4e27915b",
   "metadata": {},
   "outputs": [
    {
     "name": "stdout",
     "output_type": "stream",
     "text": [
      "[[1. 0.]\n",
      " [0. 1.]]\n",
      "[[1. 0.]\n",
      " [0. 1.]]\n"
     ]
    }
   ],
   "source": [
    "print (Bi @ B)\n",
    "print (B @ Bi)"
   ]
  },
  {
   "cell_type": "markdown",
   "id": "a5f24829",
   "metadata": {},
   "source": [
    "$ \\begin{align}\n",
    "    \\mathbf{C}\n",
    "        &\\;=\\; \\begin{pmatrix} 6 & 6 \\\\ 6 & 6 \\end{pmatrix}\n",
    "        \\;; \\qquad \\mathrm{det} \\, (\\mathbf{C}) \\;=\\; 6 \\cdot 6 - 6 \\cdot 6 \\;=\\; 36 - 36 \\;=\\; 0\n",
    "        \\;; \\qquad \\mbox{$\\mathbf{C}$ singulär, nicht invertierbar}\n",
    "\\end{align} $"
   ]
  },
  {
   "cell_type": "code",
   "execution_count": 6,
   "id": "5a0443b1",
   "metadata": {},
   "outputs": [
    {
     "name": "stdout",
     "output_type": "stream",
     "text": [
      "0.0\n"
     ]
    }
   ],
   "source": [
    "C = np.array ([[6, 6], [6, 6]])\n",
    "print (la.det (C))"
   ]
  },
  {
   "cell_type": "markdown",
   "id": "cd1aa71a",
   "metadata": {},
   "source": [
    "$ \\begin{align}\n",
    "    \\mathbf{D}\n",
    "        \\;=\\; \\begin{pmatrix} 1 & 0 & 0 \\\\ 1 & 1 & 0 \\\\ 1 & 1 & 1 \\end{pmatrix} \\\\\n",
    "\\end{align} $"
   ]
  },
  {
   "cell_type": "markdown",
   "id": "89512571",
   "metadata": {},
   "source": [
    "$ \\begin{align}\n",
    "        \\begin{pmatrix} \n",
    "            1 & 0 & 0 & 1 & 0 & 0 \\\\\n",
    "            1 & 1 & 0 & 0 & 1 & 0 \\\\\n",
    "            1 & 1 & 1 & 0 & 0 & 1 \n",
    "        \\end{pmatrix} \n",
    "        \\;;\\quad \\begin{pmatrix}\n",
    "            1 & 0 & 0 &  1 & 0 & 0 \\\\\n",
    "            0 & 1 & 0 & -1 & 1 & 0 \\\\\n",
    "            1 & 1 & 1 &  0 & 0 & 1\n",
    "        \\end{pmatrix}\n",
    "        \\;;\\quad \\begin{pmatrix}\n",
    "            1 & 0 & 0 &  1 & 0 & 0 \\\\\n",
    "            0 & 1 & 0 & -1 & 1 & 0 \\\\\n",
    "            0 & 1 & 1 & -1 & 0 & 1\n",
    "        \\end{pmatrix}\n",
    "        \\;;\\quad \\begin{pmatrix}\n",
    "            1 & 0 & 0 &  1 &  0 & 0 \\\\\n",
    "            0 & 1 & 0 & -1 &  1 & 0 \\\\\n",
    "            0 & 0 & 1 &  0 & -1 & 1\n",
    "        \\end{pmatrix}\n",
    "\\end{align} $"
   ]
  },
  {
   "cell_type": "code",
   "execution_count": 7,
   "id": "6a3d9aa4",
   "metadata": {},
   "outputs": [
    {
     "name": "stdout",
     "output_type": "stream",
     "text": [
      "[[1 0 0]\n",
      " [1 1 0]\n",
      " [1 1 1]]\n"
     ]
    }
   ],
   "source": [
    "D = np.array ([[1, 0, 0], [1, 1, 0], [1, 1, 1]])\n",
    "print (D)"
   ]
  },
  {
   "cell_type": "code",
   "execution_count": 8,
   "id": "5e88229d",
   "metadata": {},
   "outputs": [
    {
     "name": "stdout",
     "output_type": "stream",
     "text": [
      "[[ 1  0  0]\n",
      " [-1  1  0]\n",
      " [ 0 -1  1]]\n"
     ]
    }
   ],
   "source": [
    "Di = np.array ([[1, 0, 0], [-1, 1, 0], [0, -1, 1]])\n",
    "print (Di)"
   ]
  },
  {
   "cell_type": "code",
   "execution_count": 9,
   "id": "5bfa56da",
   "metadata": {},
   "outputs": [
    {
     "name": "stdout",
     "output_type": "stream",
     "text": [
      "[[1 0 0]\n",
      " [0 1 0]\n",
      " [0 0 1]]\n"
     ]
    }
   ],
   "source": [
    "print (Di @ D)"
   ]
  },
  {
   "cell_type": "code",
   "execution_count": 10,
   "id": "14329a21",
   "metadata": {},
   "outputs": [
    {
     "name": "stdout",
     "output_type": "stream",
     "text": [
      "[[1 0 0]\n",
      " [0 1 0]\n",
      " [0 0 1]]\n"
     ]
    }
   ],
   "source": [
    "print (D @ Di)"
   ]
  },
  {
   "cell_type": "markdown",
   "id": "c918773c",
   "metadata": {},
   "source": [
    "## Aufgabe 2"
   ]
  },
  {
   "cell_type": "markdown",
   "id": "6a470897",
   "metadata": {},
   "source": [
    "$ \\begin{align}\n",
    "    \\mathbf{A} \n",
    "        &\\;=\\; \\begin{pmatrix} 0 & 3 \\\\ 4 & 0 \\end{pmatrix}\n",
    "\\end{align} $\n",
    "\n",
    "$ \\begin{align}\n",
    "    \\begin{pmatrix} 0 & 3 & 1 & 0 \\\\ 4 & 0 & 0 & 1 \\end{pmatrix}\n",
    "        \\;;\\quad \\begin{pmatrix} 4 & 0 & 0 & 1 \\\\ 0 & 3 & 1 & 0 \\end{pmatrix}\n",
    "\\end{align} $"
   ]
  },
  {
   "cell_type": "markdown",
   "id": "dec8ca43",
   "metadata": {},
   "source": [
    "$\\mathbf{A}$, direkt:\n",
    "\n",
    "$ \\begin{align}\n",
    "    3 \\, x_2 \\;=\\; 1 &\\quad\\Rightarrow\\quad x_2 \\;=\\; \\frac{1}{3} \\\\\n",
    "    4 \\, x_1 \\;=\\; 0 &\\quad\\Rightarrow\\quad x_1 \\;=\\; 0 \\\\\n",
    "    3 \\, y_2 \\;=\\; 0 &\\quad\\Rightarrow\\quad y_2 \\;=\\; 0 \\\\\n",
    "    4 \\, y_1 \\;=\\; 1 &\\quad\\Rightarrow\\quad y_1 \\;=\\; \\frac{1}{4} \\\\\n",
    "\\end{align} $\n",
    "\n",
    "$ \\begin{align}\n",
    "    A ^{-1}\n",
    "        \\;=\\; \\begin{pmatrix} x_1 & y_1 \\\\ x_2 & y_2 \\end{pmatrix}\n",
    "        \\;=\\; \\begin{pmatrix} 0 & \\frac{1}{4} \\\\ \\frac{1}{3} & 0 \\end{pmatrix}\n",
    "\\end{align} $"
   ]
  },
  {
   "cell_type": "markdown",
   "id": "b7854a6a",
   "metadata": {},
   "source": [
    "$\\mathbf{A}$, Gauss-Jordan:\n",
    "\n",
    "$ \\begin{align}\n",
    "    \\begin{pmatrix} 4 & 0 & 0 & 1 \\\\ 0 & 3 & 1 & 0 \\end{pmatrix}\n",
    "        \\;;\\quad \\begin{pmatrix} 4 & 0 & 0 & 1 \\\\ 0 & 1 & \\frac{1}{3} & 0 \\end{pmatrix}\n",
    "        \\;;\\quad \\begin{pmatrix} 1 & 0 & 0 & \\frac{1}{4} \\\\ 0 & 1 & \\frac{1}{3} & 0 \\end{pmatrix}\n",
    "\\end{align} $"
   ]
  },
  {
   "cell_type": "markdown",
   "id": "c3a72fc6",
   "metadata": {},
   "source": [
    "$\\mathbf{A}$, Python:"
   ]
  },
  {
   "cell_type": "code",
   "execution_count": 11,
   "id": "c7658915",
   "metadata": {},
   "outputs": [
    {
     "name": "stdout",
     "output_type": "stream",
     "text": [
      "[[0 3 1 0]\n",
      " [4 0 0 1]]\n"
     ]
    }
   ],
   "source": [
    "A0 = np.array ([[0, 3, 1, 0], [4, 0, 0, 1]])\n",
    "print (A0)"
   ]
  },
  {
   "cell_type": "code",
   "execution_count": 12,
   "id": "8b0bddac",
   "metadata": {},
   "outputs": [
    {
     "name": "stdout",
     "output_type": "stream",
     "text": [
      "[[4 0 0 1]\n",
      " [0 3 1 0]]\n"
     ]
    }
   ],
   "source": [
    "A1 = np.array ([A0 [1], A0 [0]])\n",
    "print (A1)"
   ]
  },
  {
   "cell_type": "code",
   "execution_count": 13,
   "id": "50aaa410",
   "metadata": {},
   "outputs": [
    {
     "name": "stdout",
     "output_type": "stream",
     "text": [
      "[[1.         0.         0.         0.25      ]\n",
      " [0.         1.         0.33333333 0.        ]]\n"
     ]
    }
   ],
   "source": [
    "A2 = np.array ([A1 [0] / 4.0, A1 [1] / 3.0])\n",
    "print (A2)"
   ]
  },
  {
   "cell_type": "code",
   "execution_count": 14,
   "id": "4c68817b",
   "metadata": {},
   "outputs": [
    {
     "name": "stdout",
     "output_type": "stream",
     "text": [
      "[[0 3]\n",
      " [4 0]]\n"
     ]
    }
   ],
   "source": [
    "A = A0 [0:2, 0:2]\n",
    "print (A)"
   ]
  },
  {
   "cell_type": "code",
   "execution_count": 15,
   "id": "19d6379b",
   "metadata": {},
   "outputs": [
    {
     "name": "stdout",
     "output_type": "stream",
     "text": [
      "[[0.         0.25      ]\n",
      " [0.33333333 0.        ]]\n"
     ]
    }
   ],
   "source": [
    "Ai = A2 [0:2, 2:4]\n",
    "print (Ai)"
   ]
  },
  {
   "cell_type": "code",
   "execution_count": 16,
   "id": "dc0cbc14",
   "metadata": {},
   "outputs": [
    {
     "name": "stdout",
     "output_type": "stream",
     "text": [
      "[[1. 0.]\n",
      " [0. 1.]]\n"
     ]
    }
   ],
   "source": [
    "print (Ai @ A)"
   ]
  },
  {
   "cell_type": "markdown",
   "id": "dfaaf2c6",
   "metadata": {},
   "source": [
    "$ \\begin{align}\n",
    "    \\mathbf{B} \n",
    "        &\\;=\\; \\begin{pmatrix} 2 & 0 \\\\ 4 & 2 \\end{pmatrix}\n",
    "\\end{align} $\n",
    "\n",
    "$ \\begin{align}\n",
    "    \\begin{pmatrix} 2 & 0 & 1 & 0 \\\\ 4 & 2 & 0 & 1 \\end{pmatrix}\n",
    "        \\;;\\quad \\begin{pmatrix} 2 & 0 & 1 & 0 \\\\ 0 & 2 & -2 & 1 \\end{pmatrix}\n",
    "\\end{align} $"
   ]
  },
  {
   "cell_type": "markdown",
   "id": "c023d102",
   "metadata": {},
   "source": [
    "$\\mathbf{B}$, direkt:\n",
    "\n",
    "$ \\begin{align}\n",
    "    2 \\, x_2 \\;=\\; -2 &\\quad\\Rightarrow\\quad x_2 \\;=\\; -1 \\\\\n",
    "    2 \\, x_1 \\;=\\; 1 &\\quad\\Rightarrow\\quad x_1 \\;=\\; \\frac{1}{2} \\\\\n",
    "    2 \\, y_2 \\;=\\; 1 &\\quad\\Rightarrow\\quad y_2 \\;=\\; \\frac{1}{2} \\\\\n",
    "    2 \\, y_1 \\;=\\; 0 &\\quad\\Rightarrow\\quad y_1 \\;=\\; 0 \\\\\n",
    "\\end{align} $\n",
    "\n",
    "$ \\begin{align}\n",
    "    \\mathbf{B}^{-1}\n",
    "        \\;=\\; \\begin{pmatrix} x_1 & y_1 \\\\ x_2 & y_2 \\end{pmatrix}\n",
    "        \\;=\\; \\begin{pmatrix} \\frac{1}{2} & 0 \\\\ -1 & \\frac{1}{2} \\end{pmatrix}\n",
    "\\end{align} $"
   ]
  },
  {
   "cell_type": "markdown",
   "id": "dfd8e176",
   "metadata": {},
   "source": [
    "$\\mathbf{B}$, Gauss-Jordan:\n",
    "\n",
    "$ \\begin{align}\n",
    "    \\quad \\begin{pmatrix} 2 & 0 & 1 & 0 \\\\ 0 & 2 & -2 & 1 \\end{pmatrix}\n",
    "        \\;;\\quad \\begin{pmatrix} 1 & 0 & \\frac{1}{2} & 0 \\\\ 0 & 1 & -1 & \\frac{1}{2} \\end{pmatrix}\n",
    "\\end{align} $"
   ]
  },
  {
   "cell_type": "markdown",
   "id": "33682f1a",
   "metadata": {},
   "source": [
    "$\\mathbf{B}$, Python:"
   ]
  },
  {
   "cell_type": "code",
   "execution_count": 17,
   "id": "ba0c3643",
   "metadata": {},
   "outputs": [
    {
     "name": "stdout",
     "output_type": "stream",
     "text": [
      "[[2 0 1 0]\n",
      " [4 2 0 1]]\n"
     ]
    }
   ],
   "source": [
    "B0 = np.array ([[2, 0, 1, 0], [4, 2, 0, 1]])\n",
    "print (B0)"
   ]
  },
  {
   "cell_type": "code",
   "execution_count": 18,
   "id": "3426c171",
   "metadata": {},
   "outputs": [
    {
     "name": "stdout",
     "output_type": "stream",
     "text": [
      "[[ 2  0  1  0]\n",
      " [ 0  2 -2  1]]\n"
     ]
    }
   ],
   "source": [
    "B1 = np.array ([B0 [0], B0 [1] - 2 * B0 [0]])\n",
    "print (B1)"
   ]
  },
  {
   "cell_type": "code",
   "execution_count": 19,
   "id": "cb633117",
   "metadata": {},
   "outputs": [
    {
     "name": "stdout",
     "output_type": "stream",
     "text": [
      "[[ 1.   0.   0.5  0. ]\n",
      " [ 0.   1.  -1.   0.5]]\n"
     ]
    }
   ],
   "source": [
    "B2 = B1 / 2\n",
    "print (B2)"
   ]
  },
  {
   "cell_type": "code",
   "execution_count": 20,
   "id": "9358a645",
   "metadata": {},
   "outputs": [
    {
     "name": "stdout",
     "output_type": "stream",
     "text": [
      "[[2 0]\n",
      " [4 2]]\n"
     ]
    }
   ],
   "source": [
    "B = B0 [0:2, 0:2]\n",
    "print (B)"
   ]
  },
  {
   "cell_type": "code",
   "execution_count": 21,
   "id": "71d03238",
   "metadata": {},
   "outputs": [
    {
     "name": "stdout",
     "output_type": "stream",
     "text": [
      "[[ 0.5  0. ]\n",
      " [-1.   0.5]]\n"
     ]
    }
   ],
   "source": [
    "Bi = B2 [0:2, 2:4]\n",
    "print (Bi)"
   ]
  },
  {
   "cell_type": "code",
   "execution_count": 22,
   "id": "a9742bc7",
   "metadata": {},
   "outputs": [
    {
     "name": "stdout",
     "output_type": "stream",
     "text": [
      "[[1. 0.]\n",
      " [0. 1.]]\n"
     ]
    }
   ],
   "source": [
    "print (Bi @ B)"
   ]
  },
  {
   "cell_type": "markdown",
   "id": "b95da261",
   "metadata": {},
   "source": [
    "$ \\begin{align}\n",
    "    \\mathbf{C} \n",
    "        &\\;=\\; \\begin{pmatrix} 3 & 4 \\\\ 5 & 7 \\end{pmatrix}\n",
    "\\end{align} $\n"
   ]
  },
  {
   "cell_type": "markdown",
   "id": "358e4f47",
   "metadata": {},
   "source": [
    "$ \\begin{align}\n",
    "    \\begin{pmatrix} 3 & 4 & 1 & 0 \\\\ 5 & 7 & 0 & 1 \\end{pmatrix}\n",
    "        \\;;\\quad \\begin{pmatrix} 15 & 20 & 5 & 0 \\\\ 15 & 21 & 0 & 3 \\end{pmatrix}\n",
    "        \\;;\\quad \\begin{pmatrix} 3 & 4 & 1 & 0 \\\\ 0 & 1 & -5 & 3 \\end{pmatrix}\n",
    "\\end{align} $"
   ]
  },
  {
   "cell_type": "markdown",
   "id": "cb9fb016",
   "metadata": {},
   "source": [
    "$\\mathbf{C}$, direkt:\n",
    "\n",
    "$ \\begin{align}\n",
    "    x_2 \\;=\\; -5 \\\\\n",
    "    3 \\, x_1 + 4 \\, x_2 \\;=\\; 1 &\\quad\\Rightarrow\\quad x_1 \n",
    "        \\;=\\; \\frac{1 - 4 \\, x_2}{3}\n",
    "        \\;=\\; \\frac{1 + 20}{3}\n",
    "        \\;=\\; 7\n",
    "        \\\\\n",
    "    y_2 \\;=\\; 3 \\\\\n",
    "    3 \\, y_1 + 4 \\, y_2 \\;=\\; 0 &\\quad\\Rightarrow\\quad y_1\n",
    "        \\;=\\; \\frac{- \\, 4 \\, y_2}{3}\n",
    "        \\;=\\; -4\n",
    "\\end{align} $\n",
    "\n",
    "$ \\begin{align}\n",
    "    \\mathbf{C}^{-1}\n",
    "        \\;=\\; \\begin{pmatrix} x_1 & y_1 \\\\ x_2 & y_2 \\end{pmatrix}\n",
    "        \\;=\\; \\begin{pmatrix} 7 & -4 \\\\ -5 & 3 \\end{pmatrix}\n",
    "\\end{align} $"
   ]
  },
  {
   "cell_type": "markdown",
   "id": "bd0ddbf0",
   "metadata": {},
   "source": [
    "$\\mathbf{C}$, Gauss-Jordan:\n",
    "\n",
    "$ \\begin{align}\n",
    "    \\begin{pmatrix} 3 & 4 & 1 & 0 \\\\ 0 & 1 & -5 & 3 \\end{pmatrix}\n",
    "        \\;;\\quad \\begin{pmatrix} 3 & 4 & 1 & 0 \\\\ 0 & 4 & -20 & 12 \\end{pmatrix}\n",
    "        \\;;\\quad \\begin{pmatrix} 3 & 0 & 21 & -12 \\\\ 0 & 4 & -20 & 12 \\end{pmatrix}\n",
    "        \\;;\\quad \\begin{pmatrix} 1 & 0 & 7 & -4 \\\\ 0 & 1 & -5 & 3 \\end{pmatrix}\n",
    "\\end{align} $"
   ]
  },
  {
   "cell_type": "markdown",
   "id": "65f5389d",
   "metadata": {},
   "source": [
    "$\\mathbf{C}$, Python:"
   ]
  },
  {
   "cell_type": "code",
   "execution_count": 23,
   "id": "f6d1733a",
   "metadata": {},
   "outputs": [
    {
     "name": "stdout",
     "output_type": "stream",
     "text": [
      "[[3 4 1 0]\n",
      " [5 7 0 1]]\n"
     ]
    }
   ],
   "source": [
    "C0 = np.array ([[3, 4, 1, 0], [5, 7, 0, 1]])\n",
    "print (C0)"
   ]
  },
  {
   "cell_type": "code",
   "execution_count": 24,
   "id": "8dddc466",
   "metadata": {},
   "outputs": [
    {
     "name": "stdout",
     "output_type": "stream",
     "text": [
      "[[ 3  4  1  0]\n",
      " [ 0  1 -5  3]]\n"
     ]
    }
   ],
   "source": [
    "C1 = np.array ([C0 [0], 3 * C0 [1] - 5 * C0 [0]])\n",
    "print (C1)"
   ]
  },
  {
   "cell_type": "code",
   "execution_count": 25,
   "id": "f67090cb",
   "metadata": {},
   "outputs": [
    {
     "name": "stdout",
     "output_type": "stream",
     "text": [
      "[[  3   0  21 -12]\n",
      " [  0   1  -5   3]]\n"
     ]
    }
   ],
   "source": [
    "C2 = np.array ([C1 [0] - 4 * C1 [1], C1 [1]])\n",
    "print (C2)"
   ]
  },
  {
   "cell_type": "code",
   "execution_count": 26,
   "id": "acfa1336",
   "metadata": {},
   "outputs": [
    {
     "name": "stdout",
     "output_type": "stream",
     "text": [
      "[[ 1.  0.  7. -4.]\n",
      " [ 0.  1. -5.  3.]]\n"
     ]
    }
   ],
   "source": [
    "C3 = np.array ([C2 [0] / 3, C2 [1]])\n",
    "print (C3)"
   ]
  },
  {
   "cell_type": "code",
   "execution_count": 27,
   "id": "5eac453c",
   "metadata": {},
   "outputs": [
    {
     "name": "stdout",
     "output_type": "stream",
     "text": [
      "[[3 4]\n",
      " [5 7]]\n"
     ]
    }
   ],
   "source": [
    "C = C0 [0:2, 0:2]\n",
    "print (C)"
   ]
  },
  {
   "cell_type": "code",
   "execution_count": 28,
   "id": "c7f9af8d",
   "metadata": {},
   "outputs": [
    {
     "name": "stdout",
     "output_type": "stream",
     "text": [
      "[[ 7. -4.]\n",
      " [-5.  3.]]\n"
     ]
    }
   ],
   "source": [
    "Ci = C3 [0:2, 2:4]\n",
    "print (Ci)"
   ]
  },
  {
   "cell_type": "code",
   "execution_count": 29,
   "id": "44099fff",
   "metadata": {},
   "outputs": [
    {
     "name": "stdout",
     "output_type": "stream",
     "text": [
      "[[1. 0.]\n",
      " [0. 1.]]\n"
     ]
    }
   ],
   "source": [
    "print (Ci @ C)"
   ]
  },
  {
   "cell_type": "markdown",
   "id": "20afec8a",
   "metadata": {},
   "source": [
    "## Aufgabe 3"
   ]
  },
  {
   "cell_type": "markdown",
   "id": "b7aef103",
   "metadata": {},
   "source": [
    "$ \\begin{align}\n",
    "    A \n",
    "        &\\;=\\; \\begin{pmatrix} 1 & 2 \\\\ 3 & 6 \\end{pmatrix}\n",
    "\\end{align} $"
   ]
  },
  {
   "cell_type": "markdown",
   "id": "526e6603",
   "metadata": {},
   "source": [
    "$ \\begin{align}\n",
    "    \\begin{pmatrix} 1 & 2 \\\\ 3 & 6 \\end{pmatrix} \\;;\n",
    "        \\quad \\begin{pmatrix} 3 & 6 \\\\ 3 & 6 \\end{pmatrix} \\;;\n",
    "        \\quad \\begin{pmatrix} 1 & 2 \\\\ 0 & 0 \\end{pmatrix} \\;;\n",
    "        \\qquad \\mbox{$\\mathbf{A}$ singulär, nicht invertierbar}\n",
    "\\end{align} $"
   ]
  },
  {
   "cell_type": "markdown",
   "id": "8aa606f2",
   "metadata": {},
   "source": [
    "## Aufgabe 4"
   ]
  },
  {
   "cell_type": "markdown",
   "id": "90ce61fd",
   "metadata": {},
   "source": [
    "Wenn man eine Zeile einer Matrix $\\mathbf{A}\\in\\mathbb{R}^{n\\times{n}}$ mit $\\lambda$\n",
    "multipliziert, so wird auch die Determinante dieser\n",
    "Matrix mit $\\lambda$ multipliziert. Multipliziert man alle $n$ Zeilen der Matrix mit $\\lambda$, so wird die\n",
    "Determinante entsprechend mit $\\lambda^n$ multipliziert, es gilt also\n",
    "\n",
    "$ \\begin{align}\n",
    "    \\mathrm{det} \\, (\\lambda \\, \\mathbf{A})\n",
    "        \\;=\\; \\lambda^n \\, \\mathrm{det} \\, (\\mathbf{A}) .\n",
    "\\end{align} $\n",
    "\n",
    "In zwei Dimensionen entspricht die Determinante dem Flächeninhalt des Parallelogramms, welches\n",
    "durch die beiden Spaltenvektoren der Matrix aufgespannt wird. Streckt man das Parallelogramm\n",
    "mit $\\lambda$, multipliziert sich sein Flächeninhalt mit dem Faktor $\\lambda^2$.\n",
    "\n",
    "In drei Dimensionen entspricht die Determinante dem Volumen des Spates, welcher durch die drei\n",
    "Spaltenvektoren der Matrix aufgespannt wird. Streckt man diesen Spat mit $\\lambda$, multipliziert\n",
    "sich sein Rauminhalt mit dem Faktor $\\lambda^3$\n",
    "\n",
    "Oben genannte Rechenregel stimmt also gut mit der geometrischen Intuition überein."
   ]
  },
  {
   "cell_type": "markdown",
   "id": "ce13ea8b",
   "metadata": {},
   "source": [
    "## Aufgabe 5"
   ]
  },
  {
   "cell_type": "markdown",
   "id": "c6ff53b1",
   "metadata": {},
   "source": [
    "Nein, denn im zweidimensionalen entspricht $-\\mathbf{A}$ einer Multiplikation von $\\mathbf{A}$ mit dem Faktor\n",
    "$\\lambda=-1$, die Determinante der negativen Matrix wird also mit $\\lambda^2=1$ multipliziert und stimmt\n",
    "damit mit der Determinante von $\\mathbf{A}$ überein.\n",
    "\n",
    "Im allgemeinen ist $\\mathrm{det}\\,(-\\mathbf{A})=-\\mathrm{det}\\,(\\mathbf{A})$ in allen Räumen mit ungerader\n",
    "Dimension richtig und in allen Räumen mit gerader Dimension falsch."
   ]
  },
  {
   "cell_type": "markdown",
   "id": "71582353",
   "metadata": {},
   "source": [
    "## Aufgabe 6"
   ]
  },
  {
   "cell_type": "markdown",
   "id": "0876ae13",
   "metadata": {},
   "source": [
    "Im Allgemeinen gilt der Multiplikationssatz für Determinanten:\n",
    "    \n",
    "$ \\begin{align}\n",
    "    \\mathrm{det} \\, (\\mathbf{A} \\cdot \\mathbf {B})\n",
    "        \\;=\\; \\mathrm{det} \\, (\\mathbf{A}) \\cdot \\mathrm{det} \\, (\\mathbf{B}) .\n",
    "\\end{align} $\n",
    "\n",
    "Ausserdem ist die Determinate der Einheitsmatrix $\\mathrm{det} \\, (\\mathbf{I}) = 1$, also\n",
    "\n",
    "$ \\begin{align}\n",
    "    \\mathrm{det} \\, (\\mathbf{A}^{-1}) \\cdot \\mathrm{det} \\, (\\mathbf{A})\n",
    "        \\;=\\; \\mathrm{det} \\, (\\mathbf{A}^{-1} \\cdot \\mathbf{A})\n",
    "        \\;=\\; \\mathrm{det} \\, (\\mathbf{I})\n",
    "        \\;=\\; 1\n",
    "    \\quad\\Rightarrow\\quad \n",
    "        \\mathrm{det} \\, (\\mathbf{A}^{-1}) \\;=\\; \\frac{1}{\\mathrm{det} \\, (\\mathbf{A})} .\n",
    "\\end{align} $"
   ]
  }
 ],
 "metadata": {
  "kernelspec": {
   "display_name": "Python 3 (ipykernel)",
   "language": "python",
   "name": "python3"
  },
  "language_info": {
   "codemirror_mode": {
    "name": "ipython",
    "version": 3
   },
   "file_extension": ".py",
   "mimetype": "text/x-python",
   "name": "python",
   "nbconvert_exporter": "python",
   "pygments_lexer": "ipython3",
   "version": "3.9.12"
  }
 },
 "nbformat": 4,
 "nbformat_minor": 5
}
