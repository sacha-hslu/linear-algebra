{
 "cells": [
  {
   "cell_type": "markdown",
   "id": "40ad6e43",
   "metadata": {},
   "source": [
    "# Einfache Lineare Regression"
   ]
  },
  {
   "cell_type": "markdown",
   "id": "8f98420c",
   "metadata": {},
   "source": [
    "A    -> Matrix der Beobachtungen mit einer Spalte von einsen am Anfang\n",
    "b    -> Zielgrössen der Beobachtungen\n",
    "e    -> Fehlervektor\n",
    "xhat -> Lösung des Regressionsproblems (Regressionskoeffizienten)"
   ]
  },
  {
   "cell_type": "raw",
   "id": "59f5f6e8",
   "metadata": {},
   "source": [
    "e = b - Axhat"
   ]
  },
  {
   "cell_type": "markdown",
   "id": "8a0f2028",
   "metadata": {},
   "source": [
    "Projektionsmatrix (P)"
   ]
  },
  {
   "cell_type": "raw",
   "id": "5696a521",
   "metadata": {},
   "source": [
    "P = A @ lg.inv((A.T @ A)) @ A.T"
   ]
  },
  {
   "cell_type": "raw",
   "id": "e638747a",
   "metadata": {},
   "source": [
    "xhat = (AT @ A)^-1 @ AT @ b"
   ]
  },
  {
   "cell_type": "raw",
   "id": "8376f50b",
   "metadata": {},
   "source": [
    "p = Axhat = A @ (AT @ A)^-1 @ AT @ b = Pb"
   ]
  },
  {
   "cell_type": "raw",
   "id": "4d5082f7",
   "metadata": {},
   "source": [
    "p = Pb = Axhat und e = b − p"
   ]
  },
  {
   "cell_type": "raw",
   "id": "e1ba8e21",
   "metadata": {},
   "source": [
    "y = (1, n) @ xhat"
   ]
  },
  {
   "cell_type": "code",
   "execution_count": 41,
   "id": "94e560f8",
   "metadata": {},
   "outputs": [],
   "source": [
    "import numpy as np\n",
    "import numpy.linalg as lg\n",
    "\n",
    "A = np.array([\n",
    "    [1, 0],\n",
    "    [1, 1],\n",
    "    [1, 2],\n",
    "    [1, 3]\n",
    "])\n",
    "\n",
    "b = np.array([\n",
    "    [1],\n",
    "    [2],\n",
    "    [2],\n",
    "    [3]\n",
    "])"
   ]
  },
  {
   "cell_type": "code",
   "execution_count": 52,
   "id": "60445dcc",
   "metadata": {},
   "outputs": [
    {
     "data": {
      "text/plain": [
       "array([[1, 1, 1],\n",
       "       [1, 1, 2],\n",
       "       [1, 2, 2],\n",
       "       [1, 2, 1]])"
      ]
     },
     "execution_count": 52,
     "metadata": {},
     "output_type": "execute_result"
    }
   ],
   "source": [
    "A"
   ]
  },
  {
   "cell_type": "code",
   "execution_count": 53,
   "id": "93eee510",
   "metadata": {},
   "outputs": [
    {
     "data": {
      "text/plain": [
       "array([[1],\n",
       "       [2],\n",
       "       [2],\n",
       "       [3]])"
      ]
     },
     "execution_count": 53,
     "metadata": {},
     "output_type": "execute_result"
    }
   ],
   "source": [
    "b"
   ]
  },
  {
   "cell_type": "code",
   "execution_count": 42,
   "id": "b9efa678",
   "metadata": {},
   "outputs": [
    {
     "data": {
      "text/plain": [
       "array([[ 4,  6],\n",
       "       [ 6, 14]])"
      ]
     },
     "execution_count": 42,
     "metadata": {},
     "output_type": "execute_result"
    }
   ],
   "source": [
    "ATA = (A.T @ A)\n",
    "ATA"
   ]
  },
  {
   "cell_type": "code",
   "execution_count": 43,
   "id": "bbbd0bbe",
   "metadata": {},
   "outputs": [],
   "source": [
    "ATAinv = lg.inv(ATA)"
   ]
  },
  {
   "cell_type": "code",
   "execution_count": 44,
   "id": "050330c0",
   "metadata": {},
   "outputs": [
    {
     "data": {
      "text/plain": [
       "array([[1.1],\n",
       "       [0.6]])"
      ]
     },
     "execution_count": 44,
     "metadata": {},
     "output_type": "execute_result"
    }
   ],
   "source": [
    "xhat = ATAinv @ A.T @ b\n",
    "xhat"
   ]
  },
  {
   "cell_type": "code",
   "execution_count": 46,
   "id": "7546aa46",
   "metadata": {},
   "outputs": [
    {
     "data": {
      "text/plain": [
       "array([[ 0.7,  0.4,  0.1, -0.2],\n",
       "       [ 0.4,  0.3,  0.2,  0.1],\n",
       "       [ 0.1,  0.2,  0.3,  0.4],\n",
       "       [-0.2,  0.1,  0.4,  0.7]])"
      ]
     },
     "execution_count": 46,
     "metadata": {},
     "output_type": "execute_result"
    }
   ],
   "source": [
    "P = A @ lg.inv((A.T @ A)) @ A.T\n",
    "P"
   ]
  },
  {
   "cell_type": "code",
   "execution_count": 48,
   "id": "34fd2d8c",
   "metadata": {},
   "outputs": [
    {
     "data": {
      "text/plain": [
       "'[1.1] + [0.6] * t'"
      ]
     },
     "execution_count": 48,
     "metadata": {},
     "output_type": "execute_result"
    }
   ],
   "source": [
    "regression_line = f\"{xhat[0]} + {xhat[1]} * t\"\n",
    "regression_line"
   ]
  },
  {
   "cell_type": "markdown",
   "id": "e3a7cf10",
   "metadata": {},
   "source": [
    "# Multiple Lineare Regression"
   ]
  },
  {
   "cell_type": "markdown",
   "id": "3a9c3e87",
   "metadata": {},
   "source": [
    "A = Datenmatrix mit einer Spalte am Anfang\n",
    "y = Matrix der Zielgrössen\n",
    "b = Lösungsvektor des Regressionsproblems\n",
    "yhat = Prädiktionsvektor & Projektionsvektor"
   ]
  },
  {
   "cell_type": "raw",
   "id": "11954b3a",
   "metadata": {},
   "source": [
    "e = y - Axhat"
   ]
  },
  {
   "cell_type": "raw",
   "id": "da4949df",
   "metadata": {},
   "source": [
    "b = lg.inv(A.T @ A) @ A.T @ y"
   ]
  },
  {
   "cell_type": "raw",
   "id": "2442fe8c",
   "metadata": {},
   "source": [
    "P = A @ lg.inv((A.T @ A)) @ A.T"
   ]
  },
  {
   "cell_type": "raw",
   "id": "6032e341",
   "metadata": {},
   "source": [
    "Q = I - P"
   ]
  },
  {
   "cell_type": "raw",
   "id": "706e620a",
   "metadata": {},
   "source": [
    "e = Q @ y"
   ]
  },
  {
   "cell_type": "code",
   "execution_count": 100,
   "id": "a49eda5c",
   "metadata": {},
   "outputs": [],
   "source": [
    "import numpy as np\n",
    "import numpy.linalg as lg\n",
    "\n",
    "A = np.array([\n",
    "    [1, 1, 1],\n",
    "    [1, 2, 1],\n",
    "    [1, 2, 2],\n",
    "    [1, 1, 2],\n",
    "])\n",
    "\n",
    "y = np.array([\n",
    "    [1],\n",
    "    [2],\n",
    "    [3],\n",
    "    [3]\n",
    "])"
   ]
  },
  {
   "cell_type": "code",
   "execution_count": 101,
   "id": "97c192ac",
   "metadata": {},
   "outputs": [
    {
     "data": {
      "text/plain": [
       "array([[1, 1, 1],\n",
       "       [1, 2, 1],\n",
       "       [1, 2, 2],\n",
       "       [1, 1, 2]])"
      ]
     },
     "execution_count": 101,
     "metadata": {},
     "output_type": "execute_result"
    }
   ],
   "source": [
    "A"
   ]
  },
  {
   "cell_type": "code",
   "execution_count": 102,
   "id": "e926f6f1",
   "metadata": {},
   "outputs": [
    {
     "data": {
      "text/plain": [
       "array([[1],\n",
       "       [2],\n",
       "       [3],\n",
       "       [3]])"
      ]
     },
     "execution_count": 102,
     "metadata": {},
     "output_type": "execute_result"
    }
   ],
   "source": [
    "y"
   ]
  },
  {
   "cell_type": "code",
   "execution_count": 103,
   "id": "714750dd",
   "metadata": {},
   "outputs": [
    {
     "data": {
      "text/plain": [
       "array([[ 4,  6,  6],\n",
       "       [ 6, 10,  9],\n",
       "       [ 6,  9, 10]])"
      ]
     },
     "execution_count": 103,
     "metadata": {},
     "output_type": "execute_result"
    }
   ],
   "source": [
    "ATA = A.T @ A\n",
    "ATA"
   ]
  },
  {
   "cell_type": "code",
   "execution_count": 104,
   "id": "63613f6b",
   "metadata": {},
   "outputs": [
    {
     "data": {
      "text/plain": [
       "array([[-0.75],\n",
       "       [ 0.5 ],\n",
       "       [ 1.5 ]])"
      ]
     },
     "execution_count": 104,
     "metadata": {},
     "output_type": "execute_result"
    }
   ],
   "source": [
    "b = lg.inv(A.T @ A) @ A.T @ y\n",
    "b"
   ]
  },
  {
   "cell_type": "code",
   "execution_count": 105,
   "id": "095b9c16",
   "metadata": {},
   "outputs": [
    {
     "data": {
      "text/plain": [
       "array([[ 0.75,  0.25, -0.25,  0.25],\n",
       "       [ 0.25,  0.75,  0.25, -0.25],\n",
       "       [-0.25,  0.25,  0.75,  0.25],\n",
       "       [ 0.25, -0.25,  0.25,  0.75]])"
      ]
     },
     "execution_count": 105,
     "metadata": {},
     "output_type": "execute_result"
    }
   ],
   "source": [
    "P = A @ lg.inv((A.T @ A)) @ A.T\n",
    "P"
   ]
  },
  {
   "cell_type": "code",
   "execution_count": 113,
   "id": "5b182e85",
   "metadata": {},
   "outputs": [
    {
     "data": {
      "text/plain": [
       "array([[ 0.25, -0.25,  0.25, -0.25],\n",
       "       [-0.25,  0.25, -0.25,  0.25],\n",
       "       [ 0.25, -0.25,  0.25, -0.25],\n",
       "       [-0.25,  0.25, -0.25,  0.25]])"
      ]
     },
     "execution_count": 113,
     "metadata": {},
     "output_type": "execute_result"
    }
   ],
   "source": [
    "m = A.shape[0]\n",
    "Q = (np.eye(m, m) - P)\n",
    "Q"
   ]
  },
  {
   "cell_type": "code",
   "execution_count": 114,
   "id": "7ff8f6cc",
   "metadata": {},
   "outputs": [
    {
     "data": {
      "text/plain": [
       "array([[1.25],\n",
       "       [1.75],\n",
       "       [3.25],\n",
       "       [2.75]])"
      ]
     },
     "execution_count": 114,
     "metadata": {},
     "output_type": "execute_result"
    }
   ],
   "source": [
    "yhat = P @ y\n",
    "yhat"
   ]
  },
  {
   "cell_type": "code",
   "execution_count": 116,
   "id": "ff27fe6e",
   "metadata": {},
   "outputs": [
    {
     "data": {
      "text/plain": [
       "array([[-0.25],\n",
       "       [ 0.25],\n",
       "       [-0.25],\n",
       "       [ 0.25]])"
      ]
     },
     "execution_count": 116,
     "metadata": {},
     "output_type": "execute_result"
    }
   ],
   "source": [
    "e = Q @ y\n",
    "e"
   ]
  },
  {
   "cell_type": "code",
   "execution_count": 159,
   "id": "c8e16efa",
   "metadata": {},
   "outputs": [
    {
     "data": {
      "text/plain": [
       "array([[ 0.75, -0.25, -0.25, -0.25],\n",
       "       [-0.25,  0.75, -0.25, -0.25],\n",
       "       [-0.25, -0.25,  0.75, -0.25],\n",
       "       [-0.25, -0.25, -0.25,  0.75]])"
      ]
     },
     "execution_count": 159,
     "metadata": {},
     "output_type": "execute_result"
    }
   ],
   "source": [
    "m = A.shape[0]\n",
    "M = np.eye(m) - (1/m) * np.full((m, m), 1)\n",
    "M"
   ]
  },
  {
   "cell_type": "code",
   "execution_count": 118,
   "id": "778e07ca",
   "metadata": {},
   "outputs": [
    {
     "data": {
      "text/plain": [
       "array([[0.25]])"
      ]
     },
     "execution_count": 118,
     "metadata": {},
     "output_type": "execute_result"
    }
   ],
   "source": [
    "SQR = y.T @ Q @ y\n",
    "SQR\n"
   ]
  },
  {
   "cell_type": "code",
   "execution_count": 161,
   "id": "938b2f62",
   "metadata": {},
   "outputs": [
    {
     "data": {
      "text/plain": [
       "array([[2.75]])"
      ]
     },
     "execution_count": 161,
     "metadata": {},
     "output_type": "execute_result"
    }
   ],
   "source": [
    "SQT = y.T @ M @ y\n",
    "SQT"
   ]
  },
  {
   "cell_type": "code",
   "execution_count": 163,
   "id": "e4ded8d2",
   "metadata": {},
   "outputs": [
    {
     "data": {
      "text/plain": [
       "array([[0.09090909]])"
      ]
     },
     "execution_count": 163,
     "metadata": {},
     "output_type": "execute_result"
    }
   ],
   "source": [
    "R2 = SQR / SQT\n",
    "R2"
   ]
  },
  {
   "cell_type": "code",
   "execution_count": null,
   "id": "6c3c15c3",
   "metadata": {},
   "outputs": [],
   "source": []
  }
 ],
 "metadata": {
  "kernelspec": {
   "display_name": "Python 3 (ipykernel)",
   "language": "python",
   "name": "python3"
  },
  "language_info": {
   "codemirror_mode": {
    "name": "ipython",
    "version": 3
   },
   "file_extension": ".py",
   "mimetype": "text/x-python",
   "name": "python",
   "nbconvert_exporter": "python",
   "pygments_lexer": "ipython3",
   "version": "3.11.4"
  }
 },
 "nbformat": 4,
 "nbformat_minor": 5
}
