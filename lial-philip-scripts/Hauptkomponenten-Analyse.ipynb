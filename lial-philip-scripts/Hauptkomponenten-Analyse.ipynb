{
 "cells": [
  {
   "cell_type": "code",
   "execution_count": 13,
   "id": "44246426",
   "metadata": {},
   "outputs": [],
   "source": [
    "import numpy as np"
   ]
  },
  {
   "cell_type": "code",
   "execution_count": 21,
   "id": "319fb0cb",
   "metadata": {},
   "outputs": [
    {
     "data": {
      "text/plain": [
       "array([[0, 0],\n",
       "       [1, 1],\n",
       "       [1, 2],\n",
       "       [2, 1],\n",
       "       [2, 3],\n",
       "       [3, 2],\n",
       "       [3, 4],\n",
       "       [4, 3],\n",
       "       [4, 4],\n",
       "       [5, 5]])"
      ]
     },
     "execution_count": 21,
     "metadata": {},
     "output_type": "execute_result"
    }
   ],
   "source": [
    "# müssen viel mehr Zeilen als Spalten haben, deshalb eventuell Transponation entfernen\n",
    "\n",
    "xHat = np.array([\n",
    "    [0, 1, 1, 2, 2, 3, 3, 4, 4, 5],\n",
    "    [0, 1, 2, 1, 3, 2, 4, 3, 4, 5]\n",
    "]).T\n",
    "xHat"
   ]
  },
  {
   "cell_type": "code",
   "execution_count": 23,
   "id": "156354b6",
   "metadata": {},
   "outputs": [
    {
     "data": {
      "text/plain": [
       "array([[ 0.9, -0.1, -0.1, -0.1, -0.1, -0.1, -0.1, -0.1, -0.1, -0.1],\n",
       "       [-0.1,  0.9, -0.1, -0.1, -0.1, -0.1, -0.1, -0.1, -0.1, -0.1],\n",
       "       [-0.1, -0.1,  0.9, -0.1, -0.1, -0.1, -0.1, -0.1, -0.1, -0.1],\n",
       "       [-0.1, -0.1, -0.1,  0.9, -0.1, -0.1, -0.1, -0.1, -0.1, -0.1],\n",
       "       [-0.1, -0.1, -0.1, -0.1,  0.9, -0.1, -0.1, -0.1, -0.1, -0.1],\n",
       "       [-0.1, -0.1, -0.1, -0.1, -0.1,  0.9, -0.1, -0.1, -0.1, -0.1],\n",
       "       [-0.1, -0.1, -0.1, -0.1, -0.1, -0.1,  0.9, -0.1, -0.1, -0.1],\n",
       "       [-0.1, -0.1, -0.1, -0.1, -0.1, -0.1, -0.1,  0.9, -0.1, -0.1],\n",
       "       [-0.1, -0.1, -0.1, -0.1, -0.1, -0.1, -0.1, -0.1,  0.9, -0.1],\n",
       "       [-0.1, -0.1, -0.1, -0.1, -0.1, -0.1, -0.1, -0.1, -0.1,  0.9]])"
      ]
     },
     "execution_count": 23,
     "metadata": {},
     "output_type": "execute_result"
    }
   ],
   "source": [
    "m = xHat.shape[0]\n",
    "M = np.eye(m) - (1/m) * np.full((m, m), 1)\n",
    "M"
   ]
  },
  {
   "cell_type": "code",
   "execution_count": 20,
   "id": "55c4f067",
   "metadata": {},
   "outputs": [
    {
     "data": {
      "text/plain": [
       "array([[-2.5, -2.5],\n",
       "       [-1.5, -1.5],\n",
       "       [-1.5, -0.5],\n",
       "       [-0.5, -1.5],\n",
       "       [-0.5,  0.5],\n",
       "       [ 0.5, -0.5],\n",
       "       [ 0.5,  1.5],\n",
       "       [ 1.5,  0.5],\n",
       "       [ 1.5,  1.5],\n",
       "       [ 2.5,  2.5]])"
      ]
     },
     "execution_count": 20,
     "metadata": {},
     "output_type": "execute_result"
    }
   ],
   "source": [
    "X = M @ xHat\n",
    "X "
   ]
  },
  {
   "cell_type": "code",
   "execution_count": 25,
   "id": "6e2b196e",
   "metadata": {},
   "outputs": [
    {
     "data": {
      "text/plain": [
       "array([[2.5       , 2.16666667],\n",
       "       [2.16666667, 2.5       ]])"
      ]
     },
     "execution_count": 25,
     "metadata": {},
     "output_type": "execute_result"
    }
   ],
   "source": [
    "C = (1 / (m -1)) * X.T @ X\n",
    "C"
   ]
  },
  {
   "cell_type": "code",
   "execution_count": null,
   "id": "7ffb51fe",
   "metadata": {},
   "outputs": [],
   "source": []
  },
  {
   "cell_type": "code",
   "execution_count": null,
   "id": "970aa66f",
   "metadata": {},
   "outputs": [],
   "source": []
  }
 ],
 "metadata": {
  "kernelspec": {
   "display_name": "Python 3 (ipykernel)",
   "language": "python",
   "name": "python3"
  },
  "language_info": {
   "codemirror_mode": {
    "name": "ipython",
    "version": 3
   },
   "file_extension": ".py",
   "mimetype": "text/x-python",
   "name": "python",
   "nbconvert_exporter": "python",
   "pygments_lexer": "ipython3",
   "version": "3.11.4"
  }
 },
 "nbformat": 4,
 "nbformat_minor": 5
}
