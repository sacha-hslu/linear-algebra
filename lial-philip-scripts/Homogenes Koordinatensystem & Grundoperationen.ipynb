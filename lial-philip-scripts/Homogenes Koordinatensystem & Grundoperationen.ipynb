{
 "cells": [
  {
   "cell_type": "markdown",
   "id": "dc3eee0f",
   "metadata": {},
   "source": [
    "# Grundoperationen"
   ]
  },
  {
   "cell_type": "markdown",
   "id": "2db0710a",
   "metadata": {},
   "source": [
    "Länge eines Vektors"
   ]
  },
  {
   "cell_type": "markdown",
   "id": "0449251a",
   "metadata": {},
   "source": [
    "vector length({1, 2, 3})"
   ]
  },
  {
   "cell_type": "markdown",
   "id": "5b523f80",
   "metadata": {},
   "source": [
    "Normierter Vektor"
   ]
  },
  {
   "cell_type": "raw",
   "id": "6eee2ab9",
   "metadata": {},
   "source": [
    "{v1, v2, v3} / norm({v1, v2, v3})"
   ]
  },
  {
   "cell_type": "markdown",
   "id": "16e5de5c",
   "metadata": {},
   "source": [
    "Eingeschlossener Winkel"
   ]
  },
  {
   "cell_type": "raw",
   "id": "11cb23a2",
   "metadata": {},
   "source": [
    "a·b = b·a = |a|·|b|·cos(φ)"
   ]
  },
  {
   "cell_type": "markdown",
   "id": "a80c13bb",
   "metadata": {},
   "source": [
    "Vektor Produkt"
   ]
  },
  {
   "cell_type": "raw",
   "id": "84f5cbc8",
   "metadata": {},
   "source": [
    "vector product({v1, v2, v3}, {v1, v2, v3})"
   ]
  },
  {
   "cell_type": "markdown",
   "id": "f00d8a90",
   "metadata": {},
   "source": [
    "Skalierung"
   ]
  },
  {
   "cell_type": "raw",
   "id": "b69febce",
   "metadata": {},
   "source": [
    "Einheitsvektor bilden und die einsen durch den Skalierungsfaktor ersetzen {{3, 0}, {0, 3}}"
   ]
  },
  {
   "cell_type": "markdown",
   "id": "f4f51e8e",
   "metadata": {},
   "source": [
    "Drehung"
   ]
  },
  {
   "cell_type": "raw",
   "id": "eb46e3d2",
   "metadata": {},
   "source": [
    "{{sin(φ), -cos(φ)}, {cos(φ), sin(φ)}}"
   ]
  },
  {
   "cell_type": "markdown",
   "id": "0bc7d970",
   "metadata": {},
   "source": [
    "Achsenspiegelung Ordinate"
   ]
  },
  {
   "cell_type": "raw",
   "id": "59f7bfa5",
   "metadata": {},
   "source": [
    "{{1, 0}, {0, -1}}"
   ]
  },
  {
   "cell_type": "markdown",
   "id": "7667a7f5",
   "metadata": {},
   "source": [
    "Achsenspiegelung Abzisse"
   ]
  },
  {
   "cell_type": "raw",
   "id": "cccda9b5",
   "metadata": {},
   "source": [
    "{{-1, 0}, {0, 1}}"
   ]
  },
  {
   "cell_type": "markdown",
   "id": "17f92c6f",
   "metadata": {},
   "source": [
    "Achsenspiegelung mit Rotation"
   ]
  },
  {
   "cell_type": "raw",
   "id": "be3f109d",
   "metadata": {},
   "source": [
    "{{sin(2 * φ), -cos(2 * φ)}, {cos(2 * φ), sin(2 * φ)}}"
   ]
  },
  {
   "cell_type": "markdown",
   "id": "8ef7471e",
   "metadata": {},
   "source": [
    "Diagonal verzerren (Scherung)"
   ]
  },
  {
   "cell_type": "raw",
   "id": "96c20ad1",
   "metadata": {},
   "source": [
    "{{1, 1}, {0, 1}}"
   ]
  },
  {
   "cell_type": "markdown",
   "id": "2e2a45d2",
   "metadata": {},
   "source": [
    "Verschiebung (Translation)"
   ]
  },
  {
   "cell_type": "raw",
   "id": "6e9d7e0f",
   "metadata": {},
   "source": [
    "A + Translationsvektor"
   ]
  },
  {
   "cell_type": "markdown",
   "id": "d055cd26",
   "metadata": {},
   "source": [
    "Rotation und Translation (2D) in einem homogenem System\n",
    "- Rotation @ Translation -> das Objekt wird zuerst um den Ursprung des Koordinatensystems gedreht und dann verschoben.\n",
    "- Translation @ Rotation -> das Objekt wird zuerst verschoben und dann um den Ursprung des Koordinatensystems gedreht."
   ]
  },
  {
   "cell_type": "raw",
   "id": "ccde628e",
   "metadata": {},
   "source": [
    "{\n",
    "    {sin(φ), -cos(φ), 0}, \n",
    "    {cos(φ),  sin(φ), 0}, \n",
    "    {0     ,       0, 1}\n",
    "}"
   ]
  },
  {
   "cell_type": "markdown",
   "id": "47775b33",
   "metadata": {},
   "source": [
    "{\n",
    "    {1, 0, x},\n",
    "    {0, 1, y},\n",
    "    {0, 0, 1}\n",
    "}"
   ]
  },
  {
   "cell_type": "markdown",
   "id": "a4922dc7",
   "metadata": {},
   "source": [
    "Rotation und Translation (3D) in einem homogenem System"
   ]
  },
  {
   "cell_type": "raw",
   "id": "6c5422d8",
   "metadata": {},
   "source": [
    "Rotation, um die X-Achse\n",
    "{\n",
    "    {1,      0,       0, 0}, \n",
    "    {0, sin(φ), -cos(φ), 0}, \n",
    "    {0, cos(φ),  sin(φ), 0}, \n",
    "    {0,      0,       0, 1}\n",
    "}"
   ]
  },
  {
   "cell_type": "raw",
   "id": "8b378e0f",
   "metadata": {},
   "source": [
    "Rotation, um die X-Achse\n",
    "{\n",
    "    {cos(φ) , 0,  sin(φ), 0}, \n",
    "    {0.     , 1,       0, 0}, \n",
    "    {-sin(φ), 0, cos(φ) , 0}, \n",
    "    {0      , 0,       0, 1}\n",
    "}"
   ]
  },
  {
   "cell_type": "raw",
   "id": "decd83b5",
   "metadata": {},
   "source": [
    "Rotation, um die Z-Achse\n",
    "{\n",
    "    {cos(φ), -sin(φ), 0, 0},\n",
    "    {sin(φ),  cos(φ), 0, 0},\n",
    "    {0.    , 0.     , 1, 0},\n",
    "    {0.    , 0.     , 0, 1}\n",
    "}"
   ]
  },
  {
   "cell_type": "code",
   "execution_count": null,
   "id": "8f7f2cd7",
   "metadata": {},
   "outputs": [],
   "source": []
  }
 ],
 "metadata": {
  "kernelspec": {
   "display_name": "Python 3 (ipykernel)",
   "language": "python",
   "name": "python3"
  },
  "language_info": {
   "codemirror_mode": {
    "name": "ipython",
    "version": 3
   },
   "file_extension": ".py",
   "mimetype": "text/x-python",
   "name": "python",
   "nbconvert_exporter": "python",
   "pygments_lexer": "ipython3",
   "version": "3.11.4"
  }
 },
 "nbformat": 4,
 "nbformat_minor": 5
}
