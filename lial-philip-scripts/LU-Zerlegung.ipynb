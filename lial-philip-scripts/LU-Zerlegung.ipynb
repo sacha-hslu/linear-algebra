{
 "cells": [
  {
   "cell_type": "markdown",
   "id": "f95442bc",
   "metadata": {},
   "source": [
    "## LU-Zerlegung 3x3"
   ]
  },
  {
   "cell_type": "code",
   "execution_count": 9,
   "id": "5cf6c65b",
   "metadata": {},
   "outputs": [],
   "source": [
    "import numpy as np\n",
    "import numpy.linalg as lg"
   ]
  },
  {
   "cell_type": "markdown",
   "id": "9ae823c8",
   "metadata": {},
   "source": [
    "Bei der Lösung eines Gleichungssystems mittels LR-Zerlegung, können die Zeilen nur zu Beginn mittels einer Multiplikation einer Pseudo-Matrix verschoben werden. Pseudo-Matrix -> Einheitsmatrix mit vertauschten Zeilen"
   ]
  },
  {
   "cell_type": "code",
   "execution_count": 17,
   "id": "3bca8c1b",
   "metadata": {},
   "outputs": [
    {
     "data": {
      "text/plain": [
       "array([[ 2,  6,  2,  2],\n",
       "       [-3, -8,  0,  2],\n",
       "       [ 4,  9,  2,  3]])"
      ]
     },
     "execution_count": 17,
     "metadata": {},
     "output_type": "execute_result"
    }
   ],
   "source": [
    "A = np.array([\n",
    "    [2, 6, 2, 2],\n",
    "    [-3, -8, 0, 2],\n",
    "    [4, 9, 2, 3]\n",
    "])\n",
    "A"
   ]
  },
  {
   "cell_type": "code",
   "execution_count": 18,
   "id": "ae56cac7",
   "metadata": {},
   "outputs": [
    {
     "data": {
      "text/plain": [
       "array([[2., 6., 2., 2.],\n",
       "       [0., 1., 3., 5.],\n",
       "       [4., 9., 2., 3.]])"
      ]
     },
     "execution_count": 18,
     "metadata": {},
     "output_type": "execute_result"
    }
   ],
   "source": [
    "E21 = np.array([\n",
    "    [1   , 0, 0],\n",
    "    [1.5, 1, 0],\n",
    "    [0   , 0, 1]\n",
    "])\n",
    "\n",
    "E21 @ A"
   ]
  },
  {
   "cell_type": "code",
   "execution_count": 20,
   "id": "04318e65",
   "metadata": {},
   "outputs": [
    {
     "data": {
      "text/plain": [
       "array([[ 2.,  6.,  2.,  2.],\n",
       "       [ 0.,  1.,  3.,  5.],\n",
       "       [ 0., -3., -2., -1.]])"
      ]
     },
     "execution_count": 20,
     "metadata": {},
     "output_type": "execute_result"
    }
   ],
   "source": [
    "E31 = np.array([\n",
    "    [1, 0, 0],\n",
    "    [0, 1, 0],\n",
    "    [-2, 0, 1]\n",
    "])\n",
    "\n",
    "E31 @ E21 @ A"
   ]
  },
  {
   "cell_type": "code",
   "execution_count": 23,
   "id": "e1061e70",
   "metadata": {},
   "outputs": [
    {
     "data": {
      "text/plain": [
       "array([[ 2.,  6.,  2.,  2.],\n",
       "       [ 0.,  1.,  3.,  5.],\n",
       "       [ 0.,  0.,  7., 14.]])"
      ]
     },
     "execution_count": 23,
     "metadata": {},
     "output_type": "execute_result"
    }
   ],
   "source": [
    "E32 = np.array([\n",
    "    [1, 0, 0],\n",
    "    [0, 1, 0],\n",
    "    [0, 3, 1]\n",
    "])\n",
    "\n",
    "R = E32 @ E31 @ E21 @ A\n",
    "R"
   ]
  },
  {
   "cell_type": "code",
   "execution_count": 25,
   "id": "08505d68",
   "metadata": {},
   "outputs": [
    {
     "data": {
      "text/plain": [
       "array([[ 1. ,  0. ,  0. ],\n",
       "       [-1.5,  1. ,  0. ],\n",
       "       [ 2. , -3. ,  1. ]])"
      ]
     },
     "execution_count": 25,
     "metadata": {},
     "output_type": "execute_result"
    }
   ],
   "source": [
    "L = lg.inv(E21) @ lg.inv(E31) @ lg.inv(E32)\n",
    "L"
   ]
  },
  {
   "cell_type": "code",
   "execution_count": 27,
   "id": "e3ec126d",
   "metadata": {},
   "outputs": [
    {
     "data": {
      "text/plain": [
       "array([[ 2.,  6.,  2.,  2.],\n",
       "       [-3., -8.,  0.,  2.],\n",
       "       [ 4.,  9.,  2.,  3.]])"
      ]
     },
     "execution_count": 27,
     "metadata": {},
     "output_type": "execute_result"
    }
   ],
   "source": [
    "L @ R"
   ]
  },
  {
   "cell_type": "markdown",
   "id": "b499d54b",
   "metadata": {},
   "source": [
    "Lösung des Gleichungssystems mit Ergebnisvektor b\n",
    "- Ly = b\n",
    "- Rx = y"
   ]
  },
  {
   "cell_type": "code",
   "execution_count": null,
   "id": "499a6a80",
   "metadata": {},
   "outputs": [],
   "source": []
  }
 ],
 "metadata": {
  "kernelspec": {
   "display_name": "Python 3 (ipykernel)",
   "language": "python",
   "name": "python3"
  },
  "language_info": {
   "codemirror_mode": {
    "name": "ipython",
    "version": 3
   },
   "file_extension": ".py",
   "mimetype": "text/x-python",
   "name": "python",
   "nbconvert_exporter": "python",
   "pygments_lexer": "ipython3",
   "version": "3.11.4"
  }
 },
 "nbformat": 4,
 "nbformat_minor": 5
}
