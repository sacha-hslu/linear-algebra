{
 "cells": [
  {
   "cell_type": "markdown",
   "id": "4ead52d6",
   "metadata": {},
   "source": [
    "Eigenwerte -> eigenvalues({{v1, v2}, {v1, v2}})"
   ]
  },
  {
   "cell_type": "markdown",
   "id": "ef5f2ae7",
   "metadata": {},
   "source": [
    "Matrizen sind ähnlich, wenn sie dieselben Eigenwerte haben"
   ]
  },
  {
   "cell_type": "markdown",
   "id": "8083ce9c",
   "metadata": {},
   "source": [
    "Potenz berechnen\n",
    "- (Diagonalisierung) -> A = Eigenvektor @ Eigenvalues ({{v1, 0}, {0,v2}}) @ Eigenvektor^-1\n",
    "- (Potenzierung) -> {{v1^2, 0}, {0, v2^2}}\n",
    "- (Potenz von A) -> Eigenvektor @ Eigenvalues ({{v1^2, 0}, {0, v2^2}}) @ Eigenvektor^-1"
   ]
  },
  {
   "cell_type": "code",
   "execution_count": null,
   "id": "3cbba1f7",
   "metadata": {},
   "outputs": [],
   "source": []
  }
 ],
 "metadata": {
  "kernelspec": {
   "display_name": "Python 3 (ipykernel)",
   "language": "python",
   "name": "python3"
  },
  "language_info": {
   "codemirror_mode": {
    "name": "ipython",
    "version": 3
   },
   "file_extension": ".py",
   "mimetype": "text/x-python",
   "name": "python",
   "nbconvert_exporter": "python",
   "pygments_lexer": "ipython3",
   "version": "3.11.4"
  }
 },
 "nbformat": 4,
 "nbformat_minor": 5
}
