{
 "cells": [
  {
   "cell_type": "markdown",
   "id": "b88579dc",
   "metadata": {},
   "source": [
    "## Wolfram Notebook"
   ]
  },
  {
   "cell_type": "markdown",
   "id": "95f2e3a3",
   "metadata": {},
   "source": [
    "Lineares Gleichungssystem lösen"
   ]
  },
  {
   "cell_type": "raw",
   "id": "4f507f2c",
   "metadata": {},
   "source": [
    "x +- y +- z = n, x +- y +- z = n, x +- y +- z = n"
   ]
  },
  {
   "cell_type": "markdown",
   "id": "3892bc4c",
   "metadata": {},
   "source": [
    "Schneiden sich zwei Geraden\n",
    "- Gleichungssystem lösen -> Wenn nicht lösbar, dann keine Schneidung\n",
    "- Schnittpunkt = Lösung des LGS auf rechter oder linken Seite einsetzen, durchrechnen und Lösung als Vektor entnehmen"
   ]
  },
  {
   "cell_type": "raw",
   "id": "aec93306",
   "metadata": {},
   "source": [
    "{v1, v2, v3} + s * {v1, v2, v3} = {v1, v2, v3} + t * {v1, v2, v3}"
   ]
  },
  {
   "cell_type": "raw",
   "id": "586f8cc8",
   "metadata": {},
   "source": [
    "- scalar product -> Vektor1 und Vektor zwei aus original Gleichung einsetzen\n",
    "\n",
    "- vector length -> {v1, v2, v3}\n"
   ]
  },
  {
   "cell_type": "markdown",
   "id": "1556e211",
   "metadata": {},
   "source": [
    "Gauss elimination"
   ]
  },
  {
   "cell_type": "raw",
   "id": "2567186d",
   "metadata": {},
   "source": [
    "gaussian elimination {{v1, v2, v3},{v1, v2, v3},{v1, v2, v3}}"
   ]
  },
  {
   "cell_type": "code",
   "execution_count": null,
   "id": "ca7a01a5",
   "metadata": {},
   "outputs": [],
   "source": []
  }
 ],
 "metadata": {
  "kernelspec": {
   "display_name": "Python 3 (ipykernel)",
   "language": "python",
   "name": "python3"
  },
  "language_info": {
   "codemirror_mode": {
    "name": "ipython",
    "version": 3
   },
   "file_extension": ".py",
   "mimetype": "text/x-python",
   "name": "python",
   "nbconvert_exporter": "python",
   "pygments_lexer": "ipython3",
   "version": "3.11.4"
  }
 },
 "nbformat": 4,
 "nbformat_minor": 5
}
