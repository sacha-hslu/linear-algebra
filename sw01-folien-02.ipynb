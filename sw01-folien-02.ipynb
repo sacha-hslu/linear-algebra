{
 "cells": [
  {
   "cell_type": "code",
   "execution_count": 1,
   "outputs": [],
   "source": [
    "import numpy as np\n",
    "import numpy.linalg as la\n",
    "import matplotlib.pyplot as pl"
   ],
   "metadata": {
    "collapsed": false,
    "ExecuteTime": {
     "end_time": "2023-10-02T16:34:44.280315Z",
     "start_time": "2023-10-02T16:34:43.463577Z"
    }
   },
   "id": "f871bb88d67bfde9"
  },
  {
   "cell_type": "code",
   "execution_count": 2,
   "outputs": [],
   "source": [
    "p = np.array([\n",
    "    [1],\n",
    "    [0],\n",
    "    [2]\n",
    "])"
   ],
   "metadata": {
    "collapsed": false,
    "ExecuteTime": {
     "end_time": "2023-10-02T16:34:44.284451Z",
     "start_time": "2023-10-02T16:34:44.280597Z"
    }
   },
   "id": "6edf9ba024cca477"
  },
  {
   "cell_type": "code",
   "execution_count": 3,
   "outputs": [],
   "source": [
    "u = np.array([\n",
    "    [1],\n",
    "    [2],\n",
    "    [1]\n",
    "])"
   ],
   "metadata": {
    "collapsed": false,
    "ExecuteTime": {
     "end_time": "2023-10-02T16:34:44.284803Z",
     "start_time": "2023-10-02T16:34:44.282731Z"
    }
   },
   "id": "8cf05acb2396cbd7"
  },
  {
   "cell_type": "code",
   "execution_count": 4,
   "outputs": [],
   "source": [
    "q = np.array([\n",
    "    [2],\n",
    "    [3],\n",
    "    [1]\n",
    "])"
   ],
   "metadata": {
    "collapsed": false,
    "ExecuteTime": {
     "end_time": "2023-10-02T16:34:44.288700Z",
     "start_time": "2023-10-02T16:34:44.285639Z"
    }
   },
   "id": "9d2372410db4d6a3"
  },
  {
   "cell_type": "code",
   "execution_count": 5,
   "outputs": [],
   "source": [
    "v = np.array([\n",
    "    [4],\n",
    "    [2],\n",
    "    [9]\n",
    "])"
   ],
   "metadata": {
    "collapsed": false,
    "ExecuteTime": {
     "end_time": "2023-10-02T16:34:44.292232Z",
     "start_time": "2023-10-02T16:34:44.287737Z"
    }
   },
   "id": "2a4a144972d5a956"
  },
  {
   "cell_type": "code",
   "execution_count": 6,
   "outputs": [],
   "source": [
    "w = np.array([\n",
    "    [3],\n",
    "    [1],\n",
    "    [6]\n",
    "])"
   ],
   "metadata": {
    "collapsed": false,
    "ExecuteTime": {
     "end_time": "2023-10-02T16:34:44.293425Z",
     "start_time": "2023-10-02T16:34:44.290804Z"
    }
   },
   "id": "c66cb250faeb25c8"
  },
  {
   "cell_type": "code",
   "execution_count": 7,
   "outputs": [
    {
     "name": "stdout",
     "output_type": "stream",
     "text": [
      "[[ 1 -4 -3]\n",
      " [ 2 -2 -1]\n",
      " [ 1 -9 -6]]\n"
     ]
    }
   ],
   "source": [
    "A = np.concatenate((u, -v, -w), axis=1)\n",
    "print(A)"
   ],
   "metadata": {
    "collapsed": false,
    "ExecuteTime": {
     "end_time": "2023-10-02T16:34:44.297485Z",
     "start_time": "2023-10-02T16:34:44.293939Z"
    }
   },
   "id": "8411e993e88aa66"
  },
  {
   "cell_type": "code",
   "execution_count": 8,
   "outputs": [
    {
     "name": "stdout",
     "output_type": "stream",
     "text": [
      "[[ 1]\n",
      " [ 3]\n",
      " [-1]]\n"
     ]
    }
   ],
   "source": [
    "b = q - p\n",
    "print(b)"
   ],
   "metadata": {
    "collapsed": false,
    "ExecuteTime": {
     "end_time": "2023-10-02T16:34:44.299551Z",
     "start_time": "2023-10-02T16:34:44.296906Z"
    }
   },
   "id": "f4600e875dd004eb"
  },
  {
   "cell_type": "code",
   "execution_count": 9,
   "outputs": [
    {
     "name": "stdout",
     "output_type": "stream",
     "text": [
      "[2.] [1.] [-1.]\n"
     ]
    }
   ],
   "source": [
    "[r, s, t] = la.solve(A, b)\n",
    "print(r, s, t)"
   ],
   "metadata": {
    "collapsed": false,
    "ExecuteTime": {
     "end_time": "2023-10-02T16:34:44.324242Z",
     "start_time": "2023-10-02T16:34:44.300339Z"
    }
   },
   "id": "c759f5f948922195"
  },
  {
   "cell_type": "code",
   "execution_count": 10,
   "outputs": [
    {
     "data": {
      "text/plain": "array([[3.],\n       [4.],\n       [4.]])"
     },
     "execution_count": 10,
     "metadata": {},
     "output_type": "execute_result"
    }
   ],
   "source": [
    "p + r * u"
   ],
   "metadata": {
    "collapsed": false,
    "ExecuteTime": {
     "end_time": "2023-10-02T16:34:44.325020Z",
     "start_time": "2023-10-02T16:34:44.304560Z"
    }
   },
   "id": "4282a086e0cecf4"
  },
  {
   "cell_type": "code",
   "execution_count": 11,
   "outputs": [
    {
     "data": {
      "text/plain": "array([[3.],\n       [4.],\n       [4.]])"
     },
     "execution_count": 11,
     "metadata": {},
     "output_type": "execute_result"
    }
   ],
   "source": [
    "q + s * v + t * w"
   ],
   "metadata": {
    "collapsed": false,
    "ExecuteTime": {
     "end_time": "2023-10-02T16:34:44.325545Z",
     "start_time": "2023-10-02T16:34:44.307470Z"
    }
   },
   "id": "358c981e0d56b41a"
  },
  {
   "cell_type": "code",
   "execution_count": 12,
   "outputs": [],
   "source": [
    "I = np.array([\n",
    "    [1, 2, 3],\n",
    "    [2, 3, 5],\n",
    "    [5, 7, 11]\n",
    "])"
   ],
   "metadata": {
    "collapsed": false,
    "ExecuteTime": {
     "end_time": "2023-10-02T16:34:44.325724Z",
     "start_time": "2023-10-02T16:34:44.311589Z"
    }
   },
   "id": "5fedb62ece822d92"
  },
  {
   "cell_type": "code",
   "execution_count": 13,
   "outputs": [
    {
     "data": {
      "text/plain": "<matplotlib.image.AxesImage at 0x10f969190>"
     },
     "execution_count": 13,
     "metadata": {},
     "output_type": "execute_result"
    },
    {
     "data": {
      "text/plain": "<Figure size 640x480 with 1 Axes>",
      "image/png": "[encoded data removed]"
     },
     "metadata": {},
     "output_type": "display_data"
    }
   ],
   "source": [
    "pl.imshow(I, cmap='gray')"
   ],
   "metadata": {
    "collapsed": false,
    "ExecuteTime": {
     "end_time": "2023-10-02T16:34:44.444669Z",
     "start_time": "2023-10-02T16:34:44.314671Z"
    }
   },
   "id": "73e91af38385f2a6"
  }
 ],
 "metadata": {
  "kernelspec": {
   "display_name": "Python 3",
   "language": "python",
   "name": "python3"
  },
  "language_info": {
   "codemirror_mode": {
    "name": "ipython",
    "version": 2
   },
   "file_extension": ".py",
   "mimetype": "text/x-python",
   "name": "python",
   "nbconvert_exporter": "python",
   "pygments_lexer": "ipython2",
   "version": "2.7.6"
  }
 },
 "nbformat": 4,
 "nbformat_minor": 5
}
