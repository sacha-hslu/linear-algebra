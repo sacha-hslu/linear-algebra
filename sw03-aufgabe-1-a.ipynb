{
 "cells": [
  {
   "cell_type": "code",
   "execution_count": 1,
   "id": "29f437b0",
   "metadata": {},
   "outputs": [],
   "source": [
    "import numpy as np"
   ]
  },
  {
   "cell_type": "code",
   "execution_count": 2,
   "id": "ef93a41a",
   "metadata": {},
   "outputs": [
    {
     "name": "stdout",
     "output_type": "stream",
     "text": [
      "[[ 3 -6]\n",
      " [-2  5]]\n"
     ]
    }
   ],
   "source": [
    "A = np.array ([\n",
    "    [ 3, -6],\n",
    "    [-2,  5]\n",
    "])\n",
    "print (A)"
   ]
  },
  {
   "cell_type": "code",
   "execution_count": 3,
   "id": "844a7df5",
   "metadata": {},
   "outputs": [
    {
     "name": "stdout",
     "output_type": "stream",
     "text": [
      "[[0]\n",
      " [1]]\n"
     ]
    }
   ],
   "source": [
    "b = np.array ([\n",
    "    [0],\n",
    "    [1]\n",
    "])\n",
    "print (b)"
   ]
  },
  {
   "cell_type": "code",
   "execution_count": 4,
   "id": "2b4576e7",
   "metadata": {},
   "outputs": [
    {
     "name": "stdout",
     "output_type": "stream",
     "text": [
      "[[1.         0.        ]\n",
      " [0.66666667 1.        ]]\n"
     ]
    }
   ],
   "source": [
    "E21 = np.array ([\n",
    "    [  1, 0],\n",
    "    [2/3, 1]\n",
    "])\n",
    "print (E21)"
   ]
  },
  {
   "cell_type": "code",
   "execution_count": 5,
   "id": "96a6cc2b",
   "metadata": {},
   "outputs": [
    {
     "name": "stdout",
     "output_type": "stream",
     "text": [
      "[[ 3. -6.]\n",
      " [ 0.  1.]]\n"
     ]
    }
   ],
   "source": [
    "U = E21 @ A\n",
    "print (U)"
   ]
  },
  {
   "cell_type": "code",
   "execution_count": 6,
   "id": "29448007",
   "metadata": {},
   "outputs": [
    {
     "name": "stdout",
     "output_type": "stream",
     "text": [
      "[[ 1.          0.        ]\n",
      " [-0.66666667  1.        ]]\n"
     ]
    }
   ],
   "source": [
    "L = np.linalg.inv (E21)\n",
    "print (L)"
   ]
  },
  {
   "cell_type": "code",
   "execution_count": 7,
   "id": "8f246e2d",
   "metadata": {},
   "outputs": [
    {
     "name": "stdout",
     "output_type": "stream",
     "text": [
      "[[ 3. -6.]\n",
      " [-2.  5.]]\n"
     ]
    }
   ],
   "source": [
    "print (L @ U)"
   ]
  },
  {
   "cell_type": "code",
   "execution_count": 8,
   "id": "59daed3a",
   "metadata": {},
   "outputs": [
    {
     "name": "stdout",
     "output_type": "stream",
     "text": [
      "[[0. 0.]\n",
      " [0. 0.]]\n"
     ]
    }
   ],
   "source": [
    "print (L @ U - A)"
   ]
  },
  {
   "cell_type": "code",
   "execution_count": 9,
   "id": "0f90ee50",
   "metadata": {},
   "outputs": [
    {
     "name": "stdout",
     "output_type": "stream",
     "text": [
      "[[0.]\n",
      " [1.]]\n"
     ]
    }
   ],
   "source": [
    "y = np.linalg.inv (L) @ b\n",
    "print (y)"
   ]
  },
  {
   "cell_type": "code",
   "execution_count": 10,
   "id": "b064ed7c",
   "metadata": {},
   "outputs": [
    {
     "name": "stdout",
     "output_type": "stream",
     "text": [
      "[[2.]\n",
      " [1.]]\n"
     ]
    }
   ],
   "source": [
    "x = np.linalg.inv (U) @ y\n",
    "print (x)"
   ]
  },
  {
   "cell_type": "code",
   "execution_count": 11,
   "id": "76d24a12",
   "metadata": {},
   "outputs": [
    {
     "name": "stdout",
     "output_type": "stream",
     "text": [
      "[[0.]\n",
      " [1.]]\n"
     ]
    }
   ],
   "source": [
    "print (A @ x)"
   ]
  },
  {
   "cell_type": "code",
   "execution_count": 12,
   "id": "62cc19e4",
   "metadata": {},
   "outputs": [
    {
     "name": "stdout",
     "output_type": "stream",
     "text": [
      "[[0.]\n",
      " [0.]]\n"
     ]
    }
   ],
   "source": [
    "print (A @ x - b)"
   ]
  },
  {
   "cell_type": "code",
   "execution_count": 13,
   "id": "84a78d59",
   "metadata": {},
   "outputs": [
    {
     "name": "stdout",
     "output_type": "stream",
     "text": [
      "[[0.]\n",
      " [0.]]\n"
     ]
    }
   ],
   "source": [
    "print (A @ x - b)"
   ]
  }
 ],
 "metadata": {
  "kernelspec": {
   "display_name": "Python 3 (ipykernel)",
   "language": "python",
   "name": "python3"
  },
  "language_info": {
   "codemirror_mode": {
    "name": "ipython",
    "version": 3
   },
   "file_extension": ".py",
   "mimetype": "text/x-python",
   "name": "python",
   "nbconvert_exporter": "python",
   "pygments_lexer": "ipython3",
   "version": "3.11.5"
  }
 },
 "nbformat": 4,
 "nbformat_minor": 5
}
