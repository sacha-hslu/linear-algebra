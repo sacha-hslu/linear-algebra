{
 "cells": [
  {
   "cell_type": "code",
   "execution_count": 1,
   "id": "3df31680",
   "metadata": {},
   "outputs": [],
   "source": [
    "import numpy as np"
   ]
  },
  {
   "cell_type": "code",
   "execution_count": 2,
   "id": "9cfa11d2",
   "metadata": {},
   "outputs": [
    {
     "name": "stdout",
     "output_type": "stream",
     "text": [
      "[[ 6. -1. -1.]\n",
      " [ 1.  1. 10.]\n",
      " [ 2. -1.  1.]]\n"
     ]
    }
   ],
   "source": [
    "A = np.array ([\n",
    "    [6, -1, -1],\n",
    "    [1,  1, 10],\n",
    "    [2, -1,  1.]\n",
    "])\n",
    "print (A)"
   ]
  },
  {
   "cell_type": "code",
   "execution_count": 3,
   "id": "9cac916f",
   "metadata": {},
   "outputs": [
    {
     "name": "stdout",
     "output_type": "stream",
     "text": [
      "[[ 4.]\n",
      " [-6.]\n",
      " [-2.]]\n"
     ]
    }
   ],
   "source": [
    "b = np.array ([\n",
    "    [ 4],\n",
    "    [-6],\n",
    "    [-2.]\n",
    "])\n",
    "print (b)"
   ]
  },
  {
   "cell_type": "code",
   "execution_count": 4,
   "id": "ba1e16cb",
   "metadata": {},
   "outputs": [
    {
     "name": "stdout",
     "output_type": "stream",
     "text": [
      "[[ 1.          0.          0.        ]\n",
      " [-0.16666667  1.          0.        ]\n",
      " [ 0.          0.          1.        ]]\n"
     ]
    }
   ],
   "source": [
    "E21 = np.array ([\n",
    "    [   1, 0, 0],\n",
    "    [-1/6, 1, 0],\n",
    "    [   0, 0, 1]\n",
    "])\n",
    "print (E21)"
   ]
  },
  {
   "cell_type": "code",
   "execution_count": 5,
   "id": "703a0cbd",
   "metadata": {},
   "outputs": [
    {
     "name": "stdout",
     "output_type": "stream",
     "text": [
      "[[ 6.         -1.         -1.        ]\n",
      " [ 0.          1.16666667 10.16666667]\n",
      " [ 2.         -1.          1.        ]]\n"
     ]
    }
   ],
   "source": [
    "print (E21 @ A)"
   ]
  },
  {
   "cell_type": "code",
   "execution_count": 6,
   "id": "f8cc5c28-96ea-41ba-abcd-f2493cad236a",
   "metadata": {},
   "outputs": [
    {
     "name": "stdout",
     "output_type": "stream",
     "text": [
      "[[ 1.          0.          0.        ]\n",
      " [ 0.          1.          0.        ]\n",
      " [-0.33333333  0.          1.        ]]\n"
     ]
    }
   ],
   "source": [
    "E31 = np.array ([\n",
    "    [   1, 0, 0],\n",
    "    [   0, 1, 0],\n",
    "    [-1/3, 0, 1]\n",
    "])\n",
    "print (E31)"
   ]
  },
  {
   "cell_type": "code",
   "execution_count": 7,
   "id": "c147463f-b67e-4979-af99-6113a7387c68",
   "metadata": {},
   "outputs": [
    {
     "name": "stdout",
     "output_type": "stream",
     "text": [
      "[[ 6.         -1.         -1.        ]\n",
      " [ 0.          1.16666667 10.16666667]\n",
      " [ 0.         -0.66666667  1.33333333]]\n"
     ]
    }
   ],
   "source": [
    "print (E31 @ E21 @ A)"
   ]
  },
  {
   "cell_type": "code",
   "execution_count": 8,
   "id": "c2bf094c",
   "metadata": {},
   "outputs": [
    {
     "name": "stdout",
     "output_type": "stream",
     "text": [
      "[[1.         0.         0.        ]\n",
      " [0.         1.         0.        ]\n",
      " [0.         0.14285714 1.        ]]\n"
     ]
    }
   ],
   "source": [
    "E32 = np.array ([\n",
    "    [1,  0, 0],\n",
    "    [0,  1, 0],\n",
    "    [0,1/7, 1]\n",
    "])\n",
    "print (E32)"
   ]
  },
  {
   "cell_type": "code",
   "execution_count": 9,
   "id": "d3ba1e94-e078-43af-a8fb-9a95c21383fc",
   "metadata": {},
   "outputs": [
    {
     "name": "stdout",
     "output_type": "stream",
     "text": [
      "[[ 6. -1. -1.]\n",
      " [ 0.  1. 10.]\n",
      " [ 0. -0.  3.]]\n"
     ]
    }
   ],
   "source": [
    "print (np.round (E32 @ E31 @ E21 @ A))"
   ]
  },
  {
   "cell_type": "code",
   "execution_count": 10,
   "id": "bb76bc93",
   "metadata": {},
   "outputs": [
    {
     "name": "stdout",
     "output_type": "stream",
     "text": [
      "[[ 6.         -1.         -1.        ]\n",
      " [ 0.          1.16666667 10.16666667]\n",
      " [ 0.         -0.5         2.78571429]]\n"
     ]
    }
   ],
   "source": [
    "U = E32 @ E31 @ E21 @ A\n",
    "print (np.round (U, 10))"
   ]
  },
  {
   "cell_type": "code",
   "execution_count": 11,
   "id": "ff0d18d5",
   "metadata": {},
   "outputs": [
    {
     "name": "stdout",
     "output_type": "stream",
     "text": [
      "[[ 1.          0.          0.        ]\n",
      " [ 0.16666667  1.          0.        ]\n",
      " [ 0.33333333 -0.14285714  1.        ]]\n"
     ]
    }
   ],
   "source": [
    "L = np.linalg.inv (E32 @ E31 @ E21)\n",
    "print (L)"
   ]
  },
  {
   "cell_type": "code",
   "execution_count": 12,
   "id": "bf25ec4e",
   "metadata": {},
   "outputs": [
    {
     "name": "stdout",
     "output_type": "stream",
     "text": [
      "[[ 6. -1. -1.]\n",
      " [ 1.  1. 10.]\n",
      " [ 2. -1.  1.]]\n"
     ]
    }
   ],
   "source": [
    "print (L @ U)"
   ]
  },
  {
   "cell_type": "code",
   "execution_count": 13,
   "id": "aac5aa11",
   "metadata": {},
   "outputs": [
    {
     "name": "stdout",
     "output_type": "stream",
     "text": [
      "[[0. 0. 0.]\n",
      " [0. 0. 0.]\n",
      " [0. 0. 0.]]\n"
     ]
    }
   ],
   "source": [
    "print (np.round (L @ U - A, 10))"
   ]
  },
  {
   "cell_type": "code",
   "execution_count": 14,
   "id": "206ceb42",
   "metadata": {},
   "outputs": [
    {
     "name": "stdout",
     "output_type": "stream",
     "text": [
      "[[ 4.        ]\n",
      " [-6.66666667]\n",
      " [-4.28571429]]\n"
     ]
    }
   ],
   "source": [
    "y = np.linalg.inv (L) @ b\n",
    "print (y)"
   ]
  },
  {
   "cell_type": "code",
   "execution_count": 15,
   "id": "d0a24e8f",
   "metadata": {},
   "outputs": [
    {
     "name": "stdout",
     "output_type": "stream",
     "text": [
      "[[ 1.]\n",
      " [ 3.]\n",
      " [-1.]]\n"
     ]
    }
   ],
   "source": [
    "x = np.linalg.inv (U) @ y\n",
    "print (x)"
   ]
  },
  {
   "cell_type": "code",
   "execution_count": 16,
   "id": "035e9ef1",
   "metadata": {},
   "outputs": [
    {
     "name": "stdout",
     "output_type": "stream",
     "text": [
      "[[ 4.]\n",
      " [-6.]\n",
      " [-2.]]\n"
     ]
    }
   ],
   "source": [
    "print (A @ x)"
   ]
  },
  {
   "cell_type": "code",
   "execution_count": 17,
   "id": "693e38e8",
   "metadata": {},
   "outputs": [
    {
     "name": "stdout",
     "output_type": "stream",
     "text": [
      "[[-1.77635684e-15]\n",
      " [-1.77635684e-15]\n",
      " [-1.33226763e-15]]\n"
     ]
    }
   ],
   "source": [
    "print (A @ x - b)"
   ]
  }
 ],
 "metadata": {
  "kernelspec": {
   "display_name": "Python 3 (ipykernel)",
   "language": "python",
   "name": "python3"
  },
  "language_info": {
   "codemirror_mode": {
    "name": "ipython",
    "version": 3
   },
   "file_extension": ".py",
   "mimetype": "text/x-python",
   "name": "python",
   "nbconvert_exporter": "python",
   "pygments_lexer": "ipython3",
   "version": "3.11.5"
  }
 },
 "nbformat": 4,
 "nbformat_minor": 5
}
